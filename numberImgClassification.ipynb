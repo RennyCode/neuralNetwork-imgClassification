{
  "cells": [
    {
      "cell_type": "code",
      "execution_count": null,
      "metadata": {
        "id": "Q2-q-s5pA5Gs"
      },
      "outputs": [],
      "source": [
        "# relevant imports\n",
        "import time\n",
        "import torch\n",
        "from torch import nn\n",
        "import numpy as np\n",
        "from torchvision import datasets\n",
        "import torchvision.transforms as transforms\n",
        "import matplotlib.pyplot as plt\n",
        "from sklearn.metrics import precision_score, f1_score, recall_score, accuracy_score, balanced_accuracy_score\n",
        "from torchvision.datasets import MNIST\n",
        "from torchsummary import summary"
      ]
    },
    {
      "cell_type": "code",
      "execution_count": null,
      "metadata": {
        "colab": {
          "base_uri": "https://localhost:8080/"
        },
        "id": "uwTC3PBoBC8o",
        "outputId": "3278a74d-13af-4eed-8278-2fefc1be356b"
      },
      "outputs": [
        {
          "output_type": "stream",
          "name": "stdout",
          "text": [
            "cpu\n"
          ]
        }
      ],
      "source": [
        "# which device were on\n",
        "device = torch.device(\"cuda:0\" if torch.cuda.is_available() else \"cpu\")\n",
        "print(device)"
      ]
    },
    {
      "cell_type": "markdown",
      "metadata": {
        "id": "r5l0e-dQ-FAj"
      },
      "source": [
        "**Set data:**"
      ]
    },
    {
      "cell_type": "code",
      "execution_count": null,
      "metadata": {
        "id": "mu5wFYVokV8Z",
        "colab": {
          "base_uri": "https://localhost:8080/",
          "height": 423,
          "referenced_widgets": [
            "ae7a94845072407cb5f0031e2c47a214",
            "462bcc9d4d5b4176957c94a1d6df62e6",
            "7ac4ae46121c46b98664d0b951f4c57b",
            "d208485da99a412ea22de9259b84868f",
            "7171a934634e4d97bb477c6c78d1d11a",
            "81646b30f8d647a19e4b725a434bbdaa",
            "1181eb179a2645c0b9498a8b4d25b322",
            "eee7b7c8c47e4b7d864d3bb8050846f9",
            "1ff29f41a27b4e92baf78a7d055575f1",
            "0cfe44705dfb42ecab84c2da1469e10f",
            "2e333f701ae44814afdc5d7ed6931832",
            "6632c83d4c26469e971c5e93c4685708",
            "b37f790b72b14950b3ee6a8f8874d9cd",
            "4c5ac6a12a2c4111975409c56329b906",
            "182fec8381414b50a78eddee4d16a136",
            "9a727c03041241efa95110f2e3d129cc",
            "c7391e85425a4dc0802f32c9cf38e874",
            "3ea4861ec72c4154b7443a69e8e1d0f9",
            "47fa26a8a606496b8e3cebb45d53cd4d",
            "c357448f6890434b97281e950837ca06",
            "934d963dafae4b068c7c2268ce756eed",
            "c02dc5db53dc4b909b28ca37ff50c3dc",
            "efd89fdbc92244d8a14569ead69fd374",
            "dd776e5e434249648234164357af0af1",
            "d5745b5a0d68439c843f892e798ffb35",
            "c982d992920947f8b87ebb10b8675b3d",
            "c39ab8f9797f4e83aa009d55bea3b881",
            "e5c7207e205b4c31858801b83a1b3777",
            "0a1fedcc047240389f099c0acda67268",
            "0dd4e42be24e40efb72b7bd960ebc546",
            "9fdf0fc91f984d33a141cfe36d80d058",
            "117f388025d94f9b8fbea16eb15cd891",
            "70a2ff8f2dfd4a9697a7302f3897c1ea",
            "84050e2d72b8411a9408d1eae10d3eec",
            "acf56a17323c4796922bd2181c23e0a0",
            "d011dd46e29949f1beb3238267139ba6",
            "36c90b95184247c88f819c34700ba8e1",
            "26a1b8c28d86482db18e4bbaaf6ee452",
            "0b990c2fe2f94d40914c2dcb51c8c7a8",
            "8227b4ac7f7944cdae2ab629512faef7",
            "956023b781e942079e17314f646fb008",
            "879831d988a747f2a770a57ad00488a8",
            "619abde2850646b2b9bdcf56292f666a",
            "eda9f1904de441ea9af1dcdc2a334704"
          ]
        },
        "outputId": "6c0a2c04-4115-4cf9-821a-a3fc2bd534c0"
      },
      "outputs": [
        {
          "output_type": "stream",
          "name": "stdout",
          "text": [
            "Downloading http://yann.lecun.com/exdb/mnist/train-images-idx3-ubyte.gz\n",
            "Downloading http://yann.lecun.com/exdb/mnist/train-images-idx3-ubyte.gz to ./data/MNIST/raw/train-images-idx3-ubyte.gz\n"
          ]
        },
        {
          "output_type": "display_data",
          "data": {
            "text/plain": [
              "  0%|          | 0/9912422 [00:00<?, ?it/s]"
            ],
            "application/vnd.jupyter.widget-view+json": {
              "version_major": 2,
              "version_minor": 0,
              "model_id": "ae7a94845072407cb5f0031e2c47a214"
            }
          },
          "metadata": {}
        },
        {
          "output_type": "stream",
          "name": "stdout",
          "text": [
            "Extracting ./data/MNIST/raw/train-images-idx3-ubyte.gz to ./data/MNIST/raw\n",
            "\n",
            "Downloading http://yann.lecun.com/exdb/mnist/train-labels-idx1-ubyte.gz\n",
            "Downloading http://yann.lecun.com/exdb/mnist/train-labels-idx1-ubyte.gz to ./data/MNIST/raw/train-labels-idx1-ubyte.gz\n"
          ]
        },
        {
          "output_type": "display_data",
          "data": {
            "text/plain": [
              "  0%|          | 0/28881 [00:00<?, ?it/s]"
            ],
            "application/vnd.jupyter.widget-view+json": {
              "version_major": 2,
              "version_minor": 0,
              "model_id": "6632c83d4c26469e971c5e93c4685708"
            }
          },
          "metadata": {}
        },
        {
          "output_type": "stream",
          "name": "stdout",
          "text": [
            "Extracting ./data/MNIST/raw/train-labels-idx1-ubyte.gz to ./data/MNIST/raw\n",
            "\n",
            "Downloading http://yann.lecun.com/exdb/mnist/t10k-images-idx3-ubyte.gz\n",
            "Downloading http://yann.lecun.com/exdb/mnist/t10k-images-idx3-ubyte.gz to ./data/MNIST/raw/t10k-images-idx3-ubyte.gz\n"
          ]
        },
        {
          "output_type": "display_data",
          "data": {
            "text/plain": [
              "  0%|          | 0/1648877 [00:00<?, ?it/s]"
            ],
            "application/vnd.jupyter.widget-view+json": {
              "version_major": 2,
              "version_minor": 0,
              "model_id": "efd89fdbc92244d8a14569ead69fd374"
            }
          },
          "metadata": {}
        },
        {
          "output_type": "stream",
          "name": "stdout",
          "text": [
            "Extracting ./data/MNIST/raw/t10k-images-idx3-ubyte.gz to ./data/MNIST/raw\n",
            "\n",
            "Downloading http://yann.lecun.com/exdb/mnist/t10k-labels-idx1-ubyte.gz\n",
            "Downloading http://yann.lecun.com/exdb/mnist/t10k-labels-idx1-ubyte.gz to ./data/MNIST/raw/t10k-labels-idx1-ubyte.gz\n"
          ]
        },
        {
          "output_type": "display_data",
          "data": {
            "text/plain": [
              "  0%|          | 0/4542 [00:00<?, ?it/s]"
            ],
            "application/vnd.jupyter.widget-view+json": {
              "version_major": 2,
              "version_minor": 0,
              "model_id": "84050e2d72b8411a9408d1eae10d3eec"
            }
          },
          "metadata": {}
        },
        {
          "output_type": "stream",
          "name": "stdout",
          "text": [
            "Extracting ./data/MNIST/raw/t10k-labels-idx1-ubyte.gz to ./data/MNIST/raw\n",
            "\n"
          ]
        }
      ],
      "source": [
        "#set parameters\n",
        "num_images = 60000\n",
        "batch_size = 50\n",
        "num_baches = 13000\n",
        "num_epochs = int((batch_size*num_baches)/num_images)\n",
        "train_times = []\n",
        "\n",
        "# take the train data, split it to train and validation, then create matching loaders from the subsets\n",
        "transform = transforms.Compose([transforms.ToTensor(), \n",
        "                                        transforms.Normalize((0.5,), (0.5,))])\n",
        "dataset = MNIST(root = './data', train = True, transform = transform, download=True)\n",
        "\n",
        "train_set, val_set = torch.utils.data.random_split(dataset, [54000, 6000])\n",
        "\n",
        "X_train = train_set.dataset.data[train_set.indices]\n",
        "y_train = train_set.dataset.targets[train_set.indices]\n",
        "\n",
        "X_val = val_set.dataset.data[val_set.indices]\n",
        "y_val = val_set.dataset.targets[val_set.indices]\n",
        "\n",
        "train_images = X_train / 255. # save for later plotting\n",
        "train_labels = y_train\n",
        "\n",
        "validation_images = X_val / 255. # save for later plotting\n",
        "validation_labels = y_val\n",
        "\n",
        "train_loader_50batch = torch.utils.data.DataLoader(dataset=train_set, shuffle=True, batch_size=batch_size)\n",
        "val_loader_50batch = torch.utils.data.DataLoader(dataset=val_set, shuffle=False, batch_size=batch_size)\n",
        "\n",
        "train_loader_100batch = torch.utils.data.DataLoader(dataset=train_set, shuffle=True, batch_size=batch_size + 50)\n",
        "val_loader_100batch = torch.utils.data.DataLoader(dataset=val_set, shuffle=False, batch_size=batch_size + 50)"
      ]
    },
    {
      "cell_type": "code",
      "execution_count": null,
      "metadata": {
        "id": "2I1HWiaR3La6"
      },
      "outputs": [],
      "source": [
        "# create test loader\n",
        "dataset = MNIST(root = './data', train = False, transform = transform, download=True)\n",
        "test_set, null_set = torch.utils.data.random_split(dataset, [10000, 0])\n",
        "\n",
        "X_test = train_set.dataset.data[test_set.indices]\n",
        "y_test = train_set.dataset.targets[test_set.indices]\n",
        "\n",
        "test_images = X_test / 255. # save for later plotting\n",
        "test_labels = y_test\n",
        "\n",
        "test_loader_50batch = torch.utils.data.DataLoader(dataset=test_set, shuffle=True, batch_size=batch_size)\n",
        "test_loader_100batch = torch.utils.data.DataLoader(dataset=test_set, shuffle=True, batch_size=batch_size + 50)"
      ]
    },
    {
      "cell_type": "markdown",
      "metadata": {
        "id": "Ypp8jLmZUvhV"
      },
      "source": [
        "**Part I :**"
      ]
    },
    {
      "cell_type": "code",
      "execution_count": null,
      "metadata": {
        "colab": {
          "base_uri": "https://localhost:8080/",
          "height": 1000
        },
        "id": "96XFM1fpMV-H",
        "outputId": "a5f23029-5d68-49f5-c548-c46b78563fe8"
      },
      "outputs": [
        {
          "output_type": "display_data",
          "data": {
            "text/plain": [
              "<Figure size 432x288 with 1 Axes>"
            ],
            "image/png": "[encoded data removed]"
          },
          "metadata": {
            "needs_background": "light"
          }
        },
        {
          "output_type": "display_data",
          "data": {
            "text/plain": [
              "<Figure size 432x288 with 1 Axes>"
            ],
            "image/png": "[encoded data removed]"
          },
          "metadata": {
            "needs_background": "light"
          }
        },
        {
          "output_type": "display_data",
          "data": {
            "text/plain": [
              "<Figure size 432x288 with 1 Axes>"
            ],
            "image/png": "[encoded data removed]"
          },
          "metadata": {
            "needs_background": "light"
          }
        },
        {
          "output_type": "display_data",
          "data": {
            "text/plain": [
              "<Figure size 432x288 with 1 Axes>"
            ],
            "image/png": "[encoded data removed]"
          },
          "metadata": {
            "needs_background": "light"
          }
        },
        {
          "output_type": "display_data",
          "data": {
            "text/plain": [
              "<Figure size 432x288 with 1 Axes>"
            ],
            "image/png": "[encoded data removed]"
          },
          "metadata": {
            "needs_background": "light"
          }
        },
        {
          "output_type": "display_data",
          "data": {
            "text/plain": [
              "<Figure size 432x288 with 1 Axes>"
            ],
            "image/png": "[encoded data removed]"
          },
          "metadata": {
            "needs_background": "light"
          }
        },
        {
          "output_type": "display_data",
          "data": {
            "text/plain": [
              "<Figure size 432x288 with 1 Axes>"
            ],
            "image/png": "[encoded data removed]"
          },
          "metadata": {
            "needs_background": "light"
          }
        },
        {
          "output_type": "display_data",
          "data": {
            "text/plain": [
              "<Figure size 432x288 with 1 Axes>"
            ],
            "image/png": "[encoded data removed]"
          },
          "metadata": {
            "needs_background": "light"
          }
        },
        {
          "output_type": "display_data",
          "data": {
            "text/plain": [
              "<Figure size 432x288 with 1 Axes>"
            ],
            "image/png": "[encoded data removed]"
          },
          "metadata": {
            "needs_background": "light"
          }
        },
        {
          "output_type": "display_data",
          "data": {
            "text/plain": [
              "<Figure size 432x288 with 1 Axes>"
            ],
            "image/png": "[encoded data removed]"
          },
          "metadata": {
            "needs_background": "light"
          }
        }
      ],
      "source": [
        "# print a sample of our inputs\n",
        "sample_size = 10\n",
        "for i in range(sample_size):\n",
        "  plt.figure()\n",
        "  imgplot = plt.imshow(train_images[i])\n",
        "  # x = torch.reshape(train_images[i],(1,1,28,28))\n",
        "  plt.title(\"lable: \" + str(train_labels.float()[i])[-3:-2] )"
      ]
    },
    {
      "cell_type": "code",
      "execution_count": null,
      "metadata": {
        "id": "gZ5DvE7XBxNB"
      },
      "outputs": [],
      "source": [
        "# create models\n",
        "\n",
        "# model with no hidden layers\n",
        "model1 = nn.Sequential(\n",
        "    nn.Flatten(),\n",
        "    nn.Linear(784, 10), # 784 inputs  connect stright to the 10 output\n",
        ")\n",
        "# model with 2 hidden layers, 200 neurons each with ReLu activation func\n",
        "model2 = nn.Sequential(\n",
        "    nn.Flatten(),\n",
        "    nn.Linear(784, 200), # input layer to hidden layer 1\n",
        "    nn.ReLU(),\n",
        "    nn.Linear(200, 200), # hidden layer 1 to hidden layer 2\n",
        "    nn.ReLU(),\n",
        "    nn.Linear(200, 10)   # hidden layer 2 to ouput layer\n",
        ")\n",
        "\n",
        "lr = 0.01"
      ]
    },
    {
      "cell_type": "code",
      "execution_count": null,
      "metadata": {
        "colab": {
          "base_uri": "https://localhost:8080/"
        },
        "id": "Ko0FPmq3njy7",
        "outputId": "52615c8f-9446-4904-8f19-43e99e84528a"
      },
      "outputs": [
        {
          "output_type": "stream",
          "name": "stdout",
          "text": [
            "epoch  1 :\n",
            "2.3043509\n",
            "2.0449078\n",
            "1.8504055\n",
            "1.6317269\n",
            "1.5420908\n",
            "1.4728949\n",
            "1.3114026\n",
            "1.0704159\n",
            "1.0571828\n",
            "1.0797839\n",
            "0.9684528\n",
            "epoch  2 :\n",
            "0.97433144\n",
            "0.93245226\n",
            "0.86978483\n",
            "0.76958257\n",
            "0.85795355\n",
            "0.7161957\n",
            "0.62431216\n",
            "0.6210825\n",
            "0.60056937\n",
            "0.68934137\n",
            "0.787157\n",
            "epoch  3 :\n",
            "0.553266\n",
            "0.53965557\n",
            "0.57129514\n",
            "0.6482907\n",
            "0.5475061\n",
            "0.7030072\n",
            "0.50907594\n",
            "0.5591377\n",
            "0.6574051\n",
            "0.64179206\n",
            "0.489052\n",
            "epoch  4 :\n",
            "0.6109998\n",
            "0.57325387\n",
            "0.5667584\n",
            "0.5636488\n",
            "0.38751197\n",
            "0.35078058\n",
            "0.39413148\n",
            "0.4066166\n",
            "0.49853185\n",
            "0.35709372\n",
            "0.4130888\n",
            "epoch  5 :\n",
            "0.43040463\n",
            "0.6043246\n",
            "0.7140501\n",
            "0.4080358\n",
            "0.46348044\n",
            "0.5470139\n",
            "0.3776394\n",
            "0.5025792\n",
            "0.399219\n",
            "0.4246911\n",
            "0.40693092\n",
            "epoch  6 :\n",
            "0.47980756\n",
            "0.39645806\n",
            "0.61182743\n",
            "0.5993315\n",
            "0.50186676\n",
            "0.4087203\n",
            "0.43512002\n",
            "0.34420708\n",
            "0.55375075\n",
            "0.36289498\n",
            "0.4264003\n",
            "epoch  7 :\n",
            "0.41251457\n",
            "0.517248\n",
            "0.3572246\n",
            "0.29427722\n",
            "0.30434802\n",
            "0.25651643\n",
            "0.40922096\n",
            "0.27159843\n",
            "0.4548312\n",
            "0.44368526\n",
            "0.42298076\n",
            "epoch  8 :\n",
            "0.19877672\n",
            "0.45586067\n",
            "0.43019035\n",
            "0.6167568\n",
            "0.3550427\n",
            "0.3359187\n",
            "0.38718215\n",
            "0.43660152\n",
            "0.38713616\n",
            "0.34199023\n",
            "0.26909253\n",
            "epoch  9 :\n",
            "0.32700375\n",
            "0.29547662\n",
            "0.33580008\n",
            "0.40279105\n",
            "0.32909188\n",
            "0.31617284\n",
            "0.50307024\n",
            "0.2407585\n",
            "0.4700455\n",
            "0.41496676\n",
            "0.46572956\n",
            "epoch  10 :\n",
            "0.48818755\n",
            "0.3291958\n",
            "0.37228948\n",
            "0.470273\n",
            "0.26428166\n",
            "0.2267577\n",
            "0.28577974\n",
            "0.3032065\n",
            "0.2372687\n",
            "0.25196734\n",
            "0.3594873\n",
            "Final train CE:  0.3161691\n",
            "Train Time 148.95500135421753\n",
            "-------------------------------------------------------------\n",
            "epoch  1 :\n",
            "2.3082929\n",
            "0.88454103\n",
            "0.8057548\n",
            "0.30988613\n",
            "0.25881338\n",
            "0.24038868\n",
            "0.3090379\n",
            "0.24007973\n",
            "0.27086166\n",
            "0.4376003\n",
            "0.14095236\n",
            "epoch  2 :\n",
            "0.66422296\n",
            "0.1742859\n",
            "0.19830924\n",
            "0.34295732\n",
            "0.4195991\n",
            "0.21147299\n",
            "0.5591673\n",
            "0.41319883\n",
            "0.15725921\n",
            "0.1512621\n",
            "0.107348725\n",
            "epoch  3 :\n",
            "0.16309391\n",
            "0.08533127\n",
            "0.13038512\n",
            "0.22462486\n",
            "0.28565505\n",
            "0.3166111\n",
            "0.2826265\n",
            "0.22661579\n",
            "0.095092595\n",
            "0.15585333\n",
            "0.15623839\n",
            "epoch  4 :\n",
            "0.06394244\n",
            "0.37935743\n",
            "0.09455627\n",
            "0.13619816\n",
            "0.099926256\n",
            "0.062558025\n",
            "0.15456335\n",
            "0.047132913\n",
            "0.19075958\n",
            "0.2344072\n",
            "0.09895097\n",
            "epoch  5 :\n",
            "0.18434767\n",
            "0.12662041\n",
            "0.07471288\n",
            "0.08972031\n",
            "0.18415703\n",
            "0.05537571\n",
            "0.115463234\n",
            "0.17095448\n",
            "0.055947453\n",
            "0.11886038\n",
            "0.07879115\n",
            "epoch  6 :\n",
            "0.20586795\n",
            "0.07915289\n",
            "0.049050752\n",
            "0.046931814\n",
            "0.14384966\n",
            "0.082745105\n",
            "0.038179282\n",
            "0.18730858\n",
            "0.09399602\n",
            "0.099067144\n",
            "0.06072329\n",
            "epoch  7 :\n",
            "0.15081707\n",
            "0.1509501\n",
            "0.0641708\n",
            "0.09004112\n",
            "0.18045425\n",
            "0.33788368\n",
            "0.22013775\n",
            "0.14276463\n",
            "0.34306255\n",
            "0.11664957\n",
            "0.041527532\n",
            "epoch  8 :\n",
            "0.16168174\n",
            "0.058889717\n",
            "0.13817826\n",
            "0.28359532\n",
            "0.055839483\n",
            "0.11719853\n",
            "0.08722919\n",
            "0.03288989\n",
            "0.10241635\n",
            "0.10711262\n",
            "0.21438992\n",
            "epoch  9 :\n",
            "0.05605013\n",
            "0.07713783\n",
            "0.17869525\n",
            "0.054054543\n",
            "0.17663616\n",
            "0.09650834\n",
            "0.05519533\n",
            "0.36489734\n",
            "0.040235065\n",
            "0.07693769\n",
            "0.019491412\n",
            "epoch  10 :\n",
            "0.10579164\n",
            "0.11509525\n",
            "0.095619544\n",
            "0.096448116\n",
            "0.04194709\n",
            "0.17701474\n",
            "0.26549774\n",
            "0.13074084\n",
            "0.08402833\n",
            "0.41665798\n",
            "0.084582\n",
            "Final train CE:  0.14505306\n",
            "Train Time 194.51082801818848\n",
            "-------------------------------------------------------------\n"
          ]
        }
      ],
      "source": [
        "# train models\n",
        "\n",
        "def train_models(models, loader):\n",
        "  for model in models:\n",
        "    \n",
        "    model.to(device)\n",
        "    # optimizer = torch.optim.SGD(model.parameters(), lr=lr)\n",
        "    optimizer = torch.optim.Adam(model.parameters(), lr=lr)\n",
        "    loss = torch.nn.CrossEntropyLoss()\n",
        "    \n",
        "    start = time.time()\n",
        "    for epoch in range(num_epochs):\n",
        "      print(\"epoch \", epoch + 1, \":\")\n",
        "      for batch_idx, (images, labels) in enumerate(loader):\n",
        "        images = images/255\n",
        "        # print(images)\n",
        "        # print(labels)\n",
        "        # print(model(images)[0])\n",
        "        # input()\n",
        "        cross_entropy = loss(model(images), labels)\n",
        "        if not (batch_idx % 100):\n",
        "          print(cross_entropy.detach().numpy())\n",
        "\n",
        "        # zero gradients berfore running the backward pass\n",
        "        optimizer.zero_grad()\n",
        "\n",
        "        # backward pass to compute the gradient of loss\n",
        "        # backprop + accumulate \n",
        "        cross_entropy.backward()\n",
        "\n",
        "        # update params\n",
        "        optimizer.step()\n",
        "\n",
        "    end = time.time()\n",
        "    print(\"Final train CE: \", loss(model(images), labels).detach().numpy())\n",
        "    print(\"Train Time \"+str(end-start))\n",
        "    print(\"-------------------------------------------------------------\")\n",
        "\n",
        "\n",
        "models=[model1, model2]\n",
        "train_models(models, train_loader_50batch) "
      ]
    },
    {
      "cell_type": "markdown",
      "metadata": {
        "id": "kdVEkwWWET9E"
      },
      "source": [
        "**Validate the model (in batches):**"
      ]
    },
    {
      "cell_type": "code",
      "execution_count": null,
      "metadata": {
        "colab": {
          "base_uri": "https://localhost:8080/"
        },
        "id": "lzJ9VUt8X6yC",
        "outputId": "6cc695af-20a2-4e43-e71f-eb0337014353"
      },
      "outputs": [
        {
          "output_type": "stream",
          "name": "stdout",
          "text": [
            "Validation:\n",
            "----- Model No.1 -----\n",
            "mean of accuracies in all batches (not the general accuracy of the model): tensor(0.9000)\n",
            "----- Model No.2 -----\n",
            "mean of accuracies in all batches (not the general accuracy of the model): tensor(0.9668)\n"
          ]
        }
      ],
      "source": [
        "def get_mean_of_batches_models(models, loader):\n",
        "  accuracies = [[],[]]\n",
        "  accuracies_means = []\n",
        "  for model in models:\n",
        "    for batch_idx, (images, labels) in enumerate(loader):\n",
        "      images = images/255 # normalization\n",
        "      correct_prediction = (torch.argmax(model(images),1) == labels).type(torch.float32)\n",
        "      accuracies[(models.index(model))].append(torch.mean(correct_prediction))\n",
        "      if batch_idx == 200: # validation on only 10000 images (like the test size)\n",
        "        break\n",
        "    accuracies_means.append(sum(accuracies[(models.index(model))])/ len(accuracies[(models.index(model))]))\n",
        "    print(\"----- Model No.\"+ str(models.index(model)+1) +\" -----\")\n",
        "    print(\"mean of accuracies in all batches (not the general accuracy of the model): \"+ str(accuracies_means[(models.index(model))]))\n",
        "\n",
        "\n",
        "print(\"Validation:\")\n",
        "get_mean_of_batches_models(models, val_loader_50batch)    "
      ]
    },
    {
      "cell_type": "markdown",
      "metadata": {
        "id": "xE6mkPDJX6P-"
      },
      "source": [
        "# Evaluating the results:"
      ]
    },
    {
      "cell_type": "markdown",
      "source": [
        "the method of parameters calculation (as shown in calss) through batchs isn't healthy for our calculation since not all batches will contain all possible outputs then for parameters like f_score sk.metrics will assume a value of 0.0\n",
        "\n",
        "therefore we shall add a general calcuation that will be taken apon all of our set of data at once (per set type)."
      ],
      "metadata": {
        "id": "gS9KIsBBlmpI"
      }
    },
    {
      "cell_type": "code",
      "execution_count": null,
      "metadata": {
        "colab": {
          "base_uri": "https://localhost:8080/"
        },
        "id": "X0hdaIXq-YEL",
        "outputId": "61e5da92-434e-4eae-a9a0-7dbb5b346477"
      },
      "outputs": [
        {
          "output_type": "stream",
          "name": "stdout",
          "text": [
            "Test:\n",
            "----- Model No.1 -----\n",
            "mean of accuracies in all batches (not the general accuracy of the model): tensor(0.9062)\n",
            "----- Model No.2 -----\n",
            "mean of accuracies in all batches (not the general accuracy of the model): tensor(0.9662)\n"
          ]
        }
      ],
      "source": [
        "print(\"Test:\")\n",
        "get_mean_of_batches_models(models, test_loader_50batch) "
      ]
    },
    {
      "cell_type": "code",
      "execution_count": null,
      "metadata": {
        "id": "5wLcpoVbTPIA"
      },
      "outputs": [],
      "source": [
        "# relevant function\n",
        "def predict(trained_model, x, t):\n",
        "  prediction = torch.argmax(trained_model(x),1)\n",
        "  # correction_table = (prediction == target).type(torch.float32)\n",
        "  return score(prediction, t)\n",
        "\n",
        "def score(prediction, target):\n",
        "  p_score = precision_score(target, prediction, average='micro')\n",
        "  r_score = recall_score(target, prediction, average='micro')\n",
        "  f_score = f1_score(target, prediction, average='micro')\n",
        "  acc_score = accuracy_score(target, prediction)\n",
        "  bal_acc = balanced_accuracy_score(prediction, target)\n",
        "  return p_score, r_score, f_score, acc_score, bal_acc"
      ]
    },
    {
      "cell_type": "code",
      "execution_count": null,
      "metadata": {
        "id": "n7230n9sosnI"
      },
      "outputs": [],
      "source": [
        "# show model\n",
        "def show_model_info(model, x, t):\n",
        "  p_score, r_score, f_score, acc_score, bal_acc = predict(model, x, t)\n",
        "  print(\"p_score = \"+ str(p_score))\n",
        "  print(\"r_score = \"+ str(r_score))\n",
        "  print(\"f1_score = \"+ str(f_score))\n",
        "  print(\"acc_score = \"+ str(acc_score))\n",
        "  print(\"balance acc= \"+ str(bal_acc))"
      ]
    },
    {
      "cell_type": "code",
      "execution_count": null,
      "metadata": {
        "colab": {
          "base_uri": "https://localhost:8080/"
        },
        "id": "27yR9sXrE1g5",
        "outputId": "c6731712-c2dd-4d55-cec3-3ce2dde3952e"
      },
      "outputs": [
        {
          "output_type": "stream",
          "name": "stdout",
          "text": [
            "------------------------------ Parameters After Training ------------------------------\n",
            "\n",
            "------------------------ Model NO. 1------------------------\n",
            "----------------------------------------------------------------\n",
            "        Layer (type)               Output Shape         Param #\n",
            "================================================================\n",
            "           Flatten-1                  [-1, 784]               0\n",
            "            Linear-2                   [-1, 10]           7,850\n",
            "================================================================\n",
            "Total params: 7,850\n",
            "Trainable params: 7,850\n",
            "Non-trainable params: 0\n",
            "----------------------------------------------------------------\n",
            "Input size (MB): 0.00\n",
            "Forward/backward pass size (MB): 0.01\n",
            "Params size (MB): 0.03\n",
            "Estimated Total Size (MB): 0.04\n",
            "----------------------------------------------------------------\n",
            "\n",
            "train:\n",
            "p_score = 0.7981481481481482\n",
            "r_score = 0.7981481481481482\n",
            "f1_score = 0.7981481481481482\n",
            "acc_score = 0.7981481481481482\n",
            "balance acc= 0.8724742459976905\n",
            "\n",
            "validation:\n",
            "p_score = 0.7965\n",
            "r_score = 0.7965\n",
            "f1_score = 0.7965\n",
            "acc_score = 0.7965\n",
            "balance acc= 0.8694079072222239\n",
            "\n",
            "test:\n",
            "p_score = 0.8044\n",
            "r_score = 0.8044\n",
            "f1_score = 0.8044\n",
            "acc_score = 0.8044\n",
            "balance acc= 0.8748695181594843\n",
            "\n",
            "------------------------ Model NO. 2------------------------\n",
            "----------------------------------------------------------------\n",
            "        Layer (type)               Output Shape         Param #\n",
            "================================================================\n",
            "           Flatten-1                  [-1, 784]               0\n",
            "            Linear-2                  [-1, 200]         157,000\n",
            "              ReLU-3                  [-1, 200]               0\n",
            "            Linear-4                  [-1, 200]          40,200\n",
            "              ReLU-5                  [-1, 200]               0\n",
            "            Linear-6                   [-1, 10]           2,010\n",
            "================================================================\n",
            "Total params: 199,210\n",
            "Trainable params: 199,210\n",
            "Non-trainable params: 0\n",
            "----------------------------------------------------------------\n",
            "Input size (MB): 0.00\n",
            "Forward/backward pass size (MB): 0.01\n",
            "Params size (MB): 0.76\n",
            "Estimated Total Size (MB): 0.78\n",
            "----------------------------------------------------------------\n",
            "\n",
            "train:\n",
            "p_score = 0.8922407407407408\n",
            "r_score = 0.8922407407407408\n",
            "f1_score = 0.8922407407407408\n",
            "acc_score = 0.8922407407407408\n",
            "balance acc= 0.9105929227170593\n",
            "\n",
            "validation:\n",
            "p_score = 0.8905\n",
            "r_score = 0.8905\n",
            "f1_score = 0.8905\n",
            "acc_score = 0.8905\n",
            "balance acc= 0.9082043682622558\n",
            "\n",
            "test:\n",
            "p_score = 0.9028\n",
            "r_score = 0.9028\n",
            "f1_score = 0.9028\n",
            "acc_score = 0.9028\n",
            "balance acc= 0.91785360932058\n"
          ]
        }
      ],
      "source": [
        "print(\"------------------------------ Parameters After Training ------------------------------\")\n",
        "for model in models:\n",
        "  print(\"\\n------------------------ Model NO. \"+ str(models.index(model) + 1)+\"------------------------\")\n",
        "  summary(model, (1,28,28))\n",
        "  print(\"\\ntrain:\")\n",
        "  show_model_info(model, train_images, train_labels)\n",
        "  print(\"\\nvalidation:\")\n",
        "  show_model_info(model, validation_images, validation_labels)\n",
        "  print(\"\\ntest:\")\n",
        "  show_model_info(model, test_images, test_labels)"
      ]
    },
    {
      "cell_type": "markdown",
      "metadata": {
        "id": "MB8lKCdkJLgd"
      },
      "source": [
        "\n",
        "we could continue to train the models if the results are not satisfactory\n",
        "\n",
        "\n",
        "**Now lets see examples where our models failed to classify the images**:"
      ]
    },
    {
      "cell_type": "code",
      "execution_count": null,
      "metadata": {
        "colab": {
          "base_uri": "https://localhost:8080/",
          "height": 298
        },
        "id": "6trF6g1BgojX",
        "outputId": "5d477db4-6cc3-470a-fc4f-57b8b98968df"
      },
      "outputs": [
        {
          "output_type": "stream",
          "name": "stdout",
          "text": [
            "----- Model No.1 -----\n"
          ]
        },
        {
          "output_type": "display_data",
          "data": {
            "text/plain": [
              "<Figure size 432x288 with 1 Axes>"
            ],
            "image/png": "[encoded data removed]"
          },
          "metadata": {
            "needs_background": "light"
          }
        }
      ],
      "source": [
        "sample_size = 10\n",
        "\n",
        "print(\"----- Model No.1 -----\")\n",
        "for i in range(sample_size):\n",
        "  x = torch.reshape(train_images[i],(1,1,28,28))\n",
        "  y_softmax = model1(x)\n",
        "  y = torch.argmax(y_softmax, 1) # .value()\n",
        "  if y != int(str(train_labels.float()[i])[-3:-2]):\n",
        "    plt.figure()\n",
        "    imgplot = plt.imshow(train_images[i])\n",
        "    plt.title(\"lable: \" + str(train_labels.float()[i])[-3:-2] + \", predicted: \" + str(y)[-3:-2])"
      ]
    },
    {
      "cell_type": "code",
      "execution_count": null,
      "metadata": {
        "colab": {
          "base_uri": "https://localhost:8080/",
          "height": 298
        },
        "id": "o-FnOXfk7RcE",
        "outputId": "618a2c9a-6675-40fd-cb3d-23ca445f16d8"
      },
      "outputs": [
        {
          "output_type": "stream",
          "name": "stdout",
          "text": [
            "----- Model No.2 -----\n"
          ]
        },
        {
          "output_type": "display_data",
          "data": {
            "text/plain": [
              "<Figure size 432x288 with 1 Axes>"
            ],
            "image/png": "[encoded data removed]"
          },
          "metadata": {
            "needs_background": "light"
          }
        }
      ],
      "source": [
        "print(\"----- Model No.2 -----\")\n",
        "for i in range(sample_size):\n",
        "  x = torch.reshape(train_images[i],(1,1,28,28))\n",
        "  y_softmax = model2(x)\n",
        "  y = torch.argmax(y_softmax, 1) # .value()\n",
        "  if y != int(str(train_labels.float()[i])[-3:-2]):\n",
        "    plt.figure()\n",
        "    imgplot = plt.imshow(train_images[i])\n",
        "    plt.title(\"lable: \" + str(train_labels.float()[i])[-3:-2] + \", predicted: \" + str(y)[-3:-2])"
      ]
    },
    {
      "cell_type": "markdown",
      "metadata": {
        "id": "cGJHkyhIU3HV"
      },
      "source": [
        "**Part II :**"
      ]
    },
    {
      "cell_type": "code",
      "execution_count": null,
      "metadata": {
        "id": "7YU4mpKEU8uV"
      },
      "outputs": [],
      "source": [
        "# for debuging\n",
        "global_conv1_out = 0\n",
        "class PrintLayer(nn.Module):\n",
        "    def __init__(self, layer_out, image=0):\n",
        "        super(PrintLayer, self).__init__()\n",
        "        self.image = image\n",
        "        self.layer_out = layer_out\n",
        "    \n",
        "    def forward(self, x):\n",
        "        # Do your print / debug stuff here\n",
        "        # imgplot = plt.imshow(x.cpu().detach().numpy()[0][0])\n",
        "        \n",
        "        self.layer_out = torch.clone(x[self.image])\n",
        "        return x # forward needs to be transparent"
      ]
    },
    {
      "cell_type": "code",
      "execution_count": null,
      "metadata": {
        "id": "VnKVHrB5VIl-"
      },
      "outputs": [],
      "source": [
        "#  get model prediction\n",
        "def convo_predicted(pre_tens):\n",
        "  score, predicted = torch.max(y, 1)\n",
        "  return predicted\n",
        "\n",
        "# acc cal\n",
        "def accuracy(y, t):\n",
        "  score, predicted = torch.max(y, 1)\n",
        "  acc = (t == predicted).sum().float() / len(t)\n",
        "  return acc\n",
        "\n",
        "# hooks for convolution visualization\n",
        "activation = {}\n",
        "def get_activation(name):\n",
        "    def hook(model, input, output):\n",
        "        activation[name] = output.detach()\n",
        "    return hook"
      ]
    },
    {
      "cell_type": "code",
      "execution_count": null,
      "metadata": {
        "id": "v0lTsi8xVBc9"
      },
      "outputs": [],
      "source": [
        "Dropoutֹֹֹֹֹֹֹ_rate = 0.3\n",
        "\n",
        "model3 = nn.Sequential(\n",
        "    nn.Conv2d(in_channels=1, out_channels=32, kernel_size=(5,5), stride=(1,1), padding='same'),\n",
        "    # PrintLayer(),\n",
        "    nn.ReLU(),\n",
        "    nn.MaxPool2d(kernel_size=(2,2), stride=(2,2)),\n",
        "    nn.Conv2d(in_channels=32, out_channels=64, kernel_size=(5,5), stride=(1,1), padding='same'),\n",
        "    nn.ReLU(),\n",
        "    nn.MaxPool2d(kernel_size=(2,2), stride=(2,2)),\n",
        "    nn.Flatten(),\n",
        "    nn.Dropout(p=Dropoutֹֹֹֹֹֹֹ_rate),\n",
        "    nn.Linear(in_features=64*7*7, out_features=1024),\n",
        "    nn.ReLU(),    \n",
        "    nn.Linear(in_features=1024, out_features=10)\n",
        "  )\n",
        "\n",
        "model4 = nn.Sequential(\n",
        "    nn.Conv2d(in_channels=1, out_channels=32, kernel_size=(5,5), stride=(1,1), padding='same'),\n",
        "    # PrintLayer(),\n",
        "    nn.ReLU(),\n",
        "    nn.MaxPool2d(kernel_size=(2,2), stride=(2,2)),\n",
        "    nn.Flatten(),\n",
        "    nn.Dropout(p=Dropoutֹֹֹֹֹֹֹ_rate),\n",
        "    nn.Linear(in_features=32*14*14, out_features=1024),\n",
        "    nn.ReLU(),    \n",
        "    nn.Linear(in_features=1024, out_features=10)\n",
        "   \n",
        "  )\n",
        "\n",
        "\n",
        "def init_conv2d_weights(m):\n",
        "    if isinstance(m, nn.Conv2d):\n",
        "        nn.init.xavier_normal_(m.weight)\n",
        "        m.weight = nn.Parameter(torch.abs(m.weight))\n",
        "        m.bias.data.fill_(0.01)\n"
      ]
    },
    {
      "cell_type": "code",
      "execution_count": null,
      "metadata": {
        "colab": {
          "base_uri": "https://localhost:8080/"
        },
        "id": "VLjohlWc-lVm",
        "outputId": "c0c2375c-e05f-4dd6-a956-bdb9bb6f3132"
      },
      "outputs": [
        {
          "output_type": "stream",
          "name": "stdout",
          "text": [
            "Model 3:\n",
            "Sequential(\n",
            "  (0): Conv2d(1, 32, kernel_size=(5, 5), stride=(1, 1), padding=same)\n",
            "  (1): ReLU()\n",
            "  (2): MaxPool2d(kernel_size=(2, 2), stride=(2, 2), padding=0, dilation=1, ceil_mode=False)\n",
            "  (3): Conv2d(32, 64, kernel_size=(5, 5), stride=(1, 1), padding=same)\n",
            "  (4): ReLU()\n",
            "  (5): MaxPool2d(kernel_size=(2, 2), stride=(2, 2), padding=0, dilation=1, ceil_mode=False)\n",
            "  (6): Flatten(start_dim=1, end_dim=-1)\n",
            "  (7): Dropout(p=0.3, inplace=False)\n",
            "  (8): Linear(in_features=3136, out_features=1024, bias=True)\n",
            "  (9): ReLU()\n",
            "  (10): Linear(in_features=1024, out_features=10, bias=True)\n",
            ")\n",
            "torch.Size([32, 1, 5, 5])\n",
            "torch.Size([64, 32, 5, 5])\n",
            "\n",
            "Model 4:\n",
            "Sequential(\n",
            "  (0): Conv2d(1, 32, kernel_size=(5, 5), stride=(1, 1), padding=same)\n",
            "  (1): ReLU()\n",
            "  (2): MaxPool2d(kernel_size=(2, 2), stride=(2, 2), padding=0, dilation=1, ceil_mode=False)\n",
            "  (3): Flatten(start_dim=1, end_dim=-1)\n",
            "  (4): Dropout(p=0.3, inplace=False)\n",
            "  (5): Linear(in_features=6272, out_features=1024, bias=True)\n",
            "  (6): ReLU()\n",
            "  (7): Linear(in_features=1024, out_features=10, bias=True)\n",
            ")\n",
            "torch.Size([32, 1, 5, 5])\n"
          ]
        }
      ],
      "source": [
        "print('Model 3:')\n",
        "model3.apply(init_conv2d_weights)\n",
        "print(model3)\n",
        "print(model3[0].weight.data.shape)\n",
        "print(model3[3].weight.data.shape)\n",
        "print('\\nModel 4:')\n",
        "model4.apply(init_conv2d_weights)\n",
        "print(model4)\n",
        "print(model4[0].weight.data.shape)\n",
        "\n",
        "model3[0].register_forward_hook(get_activation('model3_conv1'))\n",
        "model3[1].register_forward_hook(get_activation('model3_conv1_Relu'))\n",
        "model3[3].register_forward_hook(get_activation('model3_conv2'))\n",
        "model3[5].register_forward_hook(get_activation('model3_conv2_maxpooled'))\n",
        "\n",
        "model4[0].register_forward_hook(get_activation('model4_conv1'))\n",
        "model4[1].register_forward_hook(get_activation('model4_conv1_Relu'))\n",
        "model4[2].register_forward_hook(get_activation('model4_conv1_maxpooled'))\n",
        "\n",
        "convo_models = [model3, model4]"
      ]
    },
    {
      "cell_type": "code",
      "execution_count": null,
      "metadata": {
        "colab": {
          "base_uri": "https://localhost:8080/"
        },
        "id": "5BD8OLnFVMCm",
        "outputId": "d2e63886-382e-4420-95a5-47a60a324f23"
      },
      "outputs": [
        {
          "output_type": "stream",
          "name": "stdout",
          "text": [
            "epoch  1 :\n",
            "CE: 2.298827, ACC: 0.140\n",
            "CE: 0.839790, ACC: 0.720\n",
            "CE: 0.875383, ACC: 0.780\n",
            "CE: 0.514589, ACC: 0.800\n",
            "CE: 0.389661, ACC: 0.880\n",
            "CE: 0.319993, ACC: 0.940\n",
            "CE: 0.274616, ACC: 0.900\n",
            "CE: 0.247831, ACC: 0.920\n",
            "CE: 0.232263, ACC: 0.920\n",
            "CE: 0.150091, ACC: 0.940\n",
            "CE: 0.110014, ACC: 0.980\n",
            "epoch  2 :\n",
            "CE: 0.135973, ACC: 0.940\n",
            "CE: 0.179059, ACC: 0.940\n",
            "CE: 0.294930, ACC: 0.920\n",
            "CE: 0.098377, ACC: 0.960\n",
            "CE: 0.131218, ACC: 0.960\n",
            "CE: 0.122519, ACC: 0.960\n",
            "CE: 0.069491, ACC: 0.980\n",
            "CE: 0.065155, ACC: 0.980\n",
            "CE: 0.244727, ACC: 0.920\n",
            "CE: 0.097302, ACC: 0.980\n",
            "CE: 0.048673, ACC: 0.980\n",
            "Final train step - CE: 0.228281, ACC: 0.940\n",
            "-------------------------------------------------------------\n",
            "epoch  1 :\n",
            "CE: 2.304712, ACC: 0.060\n",
            "CE: 0.780569, ACC: 0.800\n",
            "CE: 0.412158, ACC: 0.920\n",
            "CE: 0.795228, ACC: 0.800\n",
            "CE: 0.326591, ACC: 0.900\n",
            "CE: 0.364447, ACC: 0.880\n",
            "CE: 0.339692, ACC: 0.860\n",
            "CE: 0.150676, ACC: 0.980\n",
            "CE: 0.147593, ACC: 0.960\n",
            "CE: 0.377837, ACC: 0.900\n",
            "CE: 0.282450, ACC: 0.940\n",
            "epoch  2 :\n",
            "CE: 0.233971, ACC: 0.920\n",
            "CE: 0.178455, ACC: 0.960\n",
            "CE: 0.103171, ACC: 0.960\n",
            "CE: 0.078163, ACC: 0.980\n",
            "CE: 0.214886, ACC: 0.960\n",
            "CE: 0.280286, ACC: 0.940\n",
            "CE: 0.070580, ACC: 0.980\n",
            "CE: 0.114320, ACC: 0.960\n",
            "CE: 0.127222, ACC: 0.960\n",
            "CE: 0.129753, ACC: 0.920\n",
            "CE: 0.130405, ACC: 0.960\n",
            "Final train step - CE: 0.116758, ACC: 0.960\n",
            "-------------------------------------------------------------\n"
          ]
        }
      ],
      "source": [
        "lr = 1e-3\n",
        "loss = torch.nn.CrossEntropyLoss()\n",
        "num_epochs = 2\n",
        "optimizers = [torch.optim.Adam(model3.parameters(), lr=lr), torch.optim.Adam(model4.parameters(), lr=lr)]\n",
        "train_times = []\n",
        "\n",
        "def train_convo_models(models, loader):\n",
        "  for model in convo_models:\n",
        "    model.to(device)\n",
        "    start = time.time()\n",
        "    for epoch in range(num_epochs):\n",
        "      print(\"epoch \", epoch + 1, \":\")\n",
        "      for batch_idx, (images, labels) in enumerate(loader):\n",
        "        images = images/255\n",
        "        images, labels = images.to(device), labels.to(device)\n",
        "\n",
        "        predictions = model(images)\n",
        "        cross_entropy = loss(predictions, labels)\n",
        "        if not (batch_idx % 100):\n",
        "          print(\"CE: %.6f, ACC: %.3f\" % (cross_entropy.item(), accuracy(predictions, labels).item()))\n",
        "\n",
        "        optimizers[convo_models.index(model)].zero_grad()\n",
        "        cross_entropy.backward()\n",
        "        optimizers[convo_models.index(model)].step()\n",
        "\n",
        "    end = time.time()\n",
        "    print(\"Final train step - CE: %.6f, ACC: %.3f\" % (cross_entropy.item(), accuracy(predictions, labels).item()))\n",
        "    train_times.append(end-start)\n",
        "    print(\"-------------------------------------------------------------\")\n",
        "\n",
        "train_convo_models(convo_models, train_loader_50batch)"
      ]
    },
    {
      "cell_type": "code",
      "execution_count": null,
      "metadata": {
        "colab": {
          "base_uri": "https://localhost:8080/"
        },
        "id": "G40sQEITwLCv",
        "outputId": "3fbe15ee-587b-4ac8-b487-e1ed74a67164"
      },
      "outputs": [
        {
          "output_type": "stream",
          "name": "stdout",
          "text": [
            "Validation:\n",
            "----- Model No.1 -----\n",
            "mean of accuracies in all batches (not the general accuracy of the model): tensor(0.9637)\n",
            "----- Model No.2 -----\n",
            "mean of accuracies in all batches (not the general accuracy of the model): tensor(0.9443)\n"
          ]
        }
      ],
      "source": [
        "print(\"Validation:\")\n",
        "get_mean_of_batches_models(convo_models, val_loader_50batch)    "
      ]
    },
    {
      "cell_type": "code",
      "execution_count": null,
      "metadata": {
        "colab": {
          "base_uri": "https://localhost:8080/"
        },
        "id": "v5cxPHzKVRkX",
        "outputId": "249dd808-6855-4d0d-d340-52d624f36ef7"
      },
      "outputs": [
        {
          "output_type": "stream",
          "name": "stdout",
          "text": [
            "Test:\n",
            "----- Model No.1 -----\n",
            "mean of accuracies in all batches (not the general accuracy of the model): tensor(0.9646)\n",
            "----- Model No.2 -----\n",
            "mean of accuracies in all batches (not the general accuracy of the model): tensor(0.9479)\n"
          ]
        }
      ],
      "source": [
        "print(\"Test:\")\n",
        "get_mean_of_batches_models(convo_models, test_loader_50batch)   "
      ]
    },
    {
      "cell_type": "code",
      "execution_count": null,
      "metadata": {
        "id": "mhltj1kBpHpo"
      },
      "outputs": [],
      "source": [
        "def convo_predict_through_batches(trained_model, loader):\n",
        "  all_prediction = []\n",
        "  all_targets = []\n",
        "  for batch_idx, (images, labels) in enumerate(loader):\n",
        "    images, labels = images.to(device), labels.to(device)\n",
        "    predictions = model(images)\n",
        "    score, predicted = torch.max(predictions, 1)\n",
        "    all_prediction =  all_prediction + predicted.tolist()\n",
        "    all_targets = all_targets + labels.tolist()\n",
        "\n",
        "  return all_prediction, all_targets\n",
        "\n",
        "\n",
        "# show model\n",
        "def show_convo_model_info(model, loader):\n",
        "  prediction, targets = convo_predict_through_batches(model, loader)\n",
        "  p_score, r_score, f_score, acc_score, bal_acc = score(prediction, targets)\n",
        "  print(\"p_score = \"+ str(p_score))\n",
        "  print(\"r_score = \"+ str(r_score))\n",
        "  print(\"f1_score = \"+ str(f_score))\n",
        "  print(\"acc_score = \"+ str(acc_score))\n",
        "  print(\"balance acc= \"+ str(bal_acc))\n"
      ]
    },
    {
      "cell_type": "code",
      "execution_count": null,
      "metadata": {
        "colab": {
          "base_uri": "https://localhost:8080/"
        },
        "id": "FUS-RSd8iCFS",
        "outputId": "f496356b-2fcd-4d66-ac6d-e87a3b08d698"
      },
      "outputs": [
        {
          "output_type": "stream",
          "name": "stdout",
          "text": [
            "------------------------------ Convolution - Parameters After Training ------------------------------\n",
            "\n",
            "------------------------ Model NO. 1------------------------\n",
            "----------------------------------------------------------------\n",
            "        Layer (type)               Output Shape         Param #\n",
            "================================================================\n",
            "            Conv2d-1           [-1, 32, 28, 28]             832\n",
            "              ReLU-2           [-1, 32, 28, 28]               0\n",
            "         MaxPool2d-3           [-1, 32, 14, 14]               0\n",
            "            Conv2d-4           [-1, 64, 14, 14]          51,264\n",
            "              ReLU-5           [-1, 64, 14, 14]               0\n",
            "         MaxPool2d-6             [-1, 64, 7, 7]               0\n",
            "           Flatten-7                 [-1, 3136]               0\n",
            "           Dropout-8                 [-1, 3136]               0\n",
            "            Linear-9                 [-1, 1024]       3,212,288\n",
            "             ReLU-10                 [-1, 1024]               0\n",
            "           Linear-11                   [-1, 10]          10,250\n",
            "================================================================\n",
            "Total params: 3,274,634\n",
            "Trainable params: 3,274,634\n",
            "Non-trainable params: 0\n",
            "----------------------------------------------------------------\n",
            "Input size (MB): 0.00\n",
            "Forward/backward pass size (MB): 0.71\n",
            "Params size (MB): 12.49\n",
            "Estimated Total Size (MB): 13.20\n",
            "----------------------------------------------------------------\n",
            "\n",
            "train:\n",
            "p_score = 0.8065555555555556\n",
            "r_score = 0.8065555555555556\n",
            "f1_score = 0.8065555555555557\n",
            "acc_score = 0.8065555555555556\n",
            "balance acc= 0.8330031981344443\n",
            "\n",
            "validation:\n",
            "p_score = 0.8116666666666666\n",
            "r_score = 0.8116666666666666\n",
            "f1_score = 0.8116666666666666\n",
            "acc_score = 0.8116666666666666\n",
            "balance acc= 0.8418406816772608\n",
            "\n",
            "test:\n",
            "p_score = 0.8098\n",
            "r_score = 0.8098\n",
            "f1_score = 0.8097999999999999\n",
            "acc_score = 0.8098\n",
            "balance acc= 0.8361217550472549\n",
            "\n",
            "------------------------ Model NO. 2------------------------\n",
            "----------------------------------------------------------------\n",
            "        Layer (type)               Output Shape         Param #\n",
            "================================================================\n",
            "            Conv2d-1           [-1, 32, 28, 28]             832\n",
            "              ReLU-2           [-1, 32, 28, 28]               0\n",
            "         MaxPool2d-3           [-1, 32, 14, 14]               0\n",
            "           Flatten-4                 [-1, 6272]               0\n",
            "           Dropout-5                 [-1, 6272]               0\n",
            "            Linear-6                 [-1, 1024]       6,423,552\n",
            "              ReLU-7                 [-1, 1024]               0\n",
            "            Linear-8                   [-1, 10]          10,250\n",
            "================================================================\n",
            "Total params: 6,434,634\n",
            "Trainable params: 6,434,634\n",
            "Non-trainable params: 0\n",
            "----------------------------------------------------------------\n",
            "Input size (MB): 0.00\n",
            "Forward/backward pass size (MB): 0.54\n",
            "Params size (MB): 24.55\n",
            "Estimated Total Size (MB): 25.09\n",
            "----------------------------------------------------------------\n",
            "\n",
            "train:\n",
            "p_score = 0.7751666666666667\n",
            "r_score = 0.7751666666666667\n",
            "f1_score = 0.7751666666666666\n",
            "acc_score = 0.7751666666666667\n",
            "balance acc= 0.7926171260856985\n",
            "\n",
            "validation:\n",
            "p_score = 0.7796666666666666\n",
            "r_score = 0.7796666666666666\n",
            "f1_score = 0.7796666666666666\n",
            "acc_score = 0.7796666666666666\n",
            "balance acc= 0.7959314390376047\n",
            "\n",
            "test:\n",
            "p_score = 0.7897\n",
            "r_score = 0.7897\n",
            "f1_score = 0.7897\n",
            "acc_score = 0.7897\n",
            "balance acc= 0.8068307437243595\n"
          ]
        }
      ],
      "source": [
        "print(\"------------------------------ Convolution - Parameters After Training ------------------------------\")\n",
        "for model in convo_models:\n",
        "  print(\"\\n------------------------ Model NO. \"+ str(convo_models.index(model) + 1)+\"------------------------\")\n",
        "  summary(model, (1,28,28))\n",
        "  print(\"\\ntrain:\")\n",
        "  show_convo_model_info(model, train_loader_50batch)\n",
        "  print(\"\\nvalidation:\")\n",
        "  show_convo_model_info(model, val_loader_50batch)\n",
        "  print(\"\\ntest:\")\n",
        "  show_convo_model_info(model, test_loader_50batch)"
      ]
    },
    {
      "cell_type": "markdown",
      "metadata": {
        "id": "uam4-FIzygGx"
      },
      "source": [
        "**5.**"
      ]
    },
    {
      "cell_type": "code",
      "execution_count": null,
      "metadata": {
        "id": "uo6vPqK4S3-b"
      },
      "outputs": [],
      "source": [
        "Dropoutֹֹֹֹֹֹֹ_rate = 0.5\n",
        "\n",
        "model5 = nn.Sequential(\n",
        "    nn.Conv2d(in_channels=1, out_channels=32, kernel_size=(5,5), stride=(1,1), padding='same'),\n",
        "    # PrintLayer(),\n",
        "    nn.ReLU(),\n",
        "    nn.MaxPool2d(kernel_size=(2,2), stride=(2,2)),\n",
        "    nn.Conv2d(in_channels=32, out_channels=64, kernel_size=(5,5), stride=(1,1), padding='same'),\n",
        "    nn.ReLU(),\n",
        "    nn.MaxPool2d(kernel_size=(2,2), stride=(2,2)),\n",
        "    nn.Flatten(),\n",
        "    nn.Dropout(p=Dropoutֹֹֹֹֹֹֹ_rate),\n",
        "    nn.Linear(in_features=64*7*7, out_features=1024),\n",
        "    nn.ReLU(),    \n",
        "    nn.Linear(in_features=1024, out_features=10)\n",
        "  )\n",
        "\n",
        "\n",
        "model6 = nn.Sequential(\n",
        "    nn.Conv2d(in_channels=1, out_channels=32, kernel_size=(5,5), stride=(1,1), padding='same'),\n",
        "    # PrintLayer(),\n",
        "    nn.ReLU(),\n",
        "    nn.MaxPool2d(kernel_size=(2,2), stride=(2,2)),\n",
        "    nn.Conv2d(in_channels=32, out_channels=64, kernel_size=(5,5), stride=(1,1), padding='same'),\n",
        "    nn.ReLU(),\n",
        "    nn.MaxPool2d(kernel_size=(2,2), stride=(2,2)),\n",
        "    nn.Flatten(),\n",
        "    nn.Dropout(p=Dropoutֹֹֹֹֹֹֹ_rate),\n",
        "    nn.Linear(in_features=64*7*7, out_features=1024),\n",
        "    nn.ReLU(),    \n",
        "    nn.Linear(in_features=1024, out_features=10)\n",
        "  )"
      ]
    },
    {
      "cell_type": "code",
      "execution_count": null,
      "metadata": {
        "colab": {
          "base_uri": "https://localhost:8080/"
        },
        "id": "Bb7-JSdzx_5l",
        "outputId": "ace1ea75-b64a-4ce0-adff-2f284e42691d"
      },
      "outputs": [
        {
          "output_type": "stream",
          "name": "stdout",
          "text": [
            "\n",
            "Model 5:\n",
            "Sequential(\n",
            "  (0): Conv2d(1, 32, kernel_size=(5, 5), stride=(1, 1), padding=same)\n",
            "  (1): ReLU()\n",
            "  (2): MaxPool2d(kernel_size=(2, 2), stride=(2, 2), padding=0, dilation=1, ceil_mode=False)\n",
            "  (3): Conv2d(32, 64, kernel_size=(5, 5), stride=(1, 1), padding=same)\n",
            "  (4): ReLU()\n",
            "  (5): MaxPool2d(kernel_size=(2, 2), stride=(2, 2), padding=0, dilation=1, ceil_mode=False)\n",
            "  (6): Flatten(start_dim=1, end_dim=-1)\n",
            "  (7): Dropout(p=0.5, inplace=False)\n",
            "  (8): Linear(in_features=3136, out_features=1024, bias=True)\n",
            "  (9): ReLU()\n",
            "  (10): Linear(in_features=1024, out_features=10, bias=True)\n",
            ")\n",
            "torch.Size([32, 1, 5, 5])\n",
            "torch.Size([64, 32, 5, 5])\n",
            "\n",
            "Model 6:\n",
            "Sequential(\n",
            "  (0): Conv2d(1, 32, kernel_size=(5, 5), stride=(1, 1), padding=same)\n",
            "  (1): ReLU()\n",
            "  (2): MaxPool2d(kernel_size=(2, 2), stride=(2, 2), padding=0, dilation=1, ceil_mode=False)\n",
            "  (3): Conv2d(32, 64, kernel_size=(5, 5), stride=(1, 1), padding=same)\n",
            "  (4): ReLU()\n",
            "  (5): MaxPool2d(kernel_size=(2, 2), stride=(2, 2), padding=0, dilation=1, ceil_mode=False)\n",
            "  (6): Flatten(start_dim=1, end_dim=-1)\n",
            "  (7): Dropout(p=0.5, inplace=False)\n",
            "  (8): Linear(in_features=3136, out_features=1024, bias=True)\n",
            "  (9): ReLU()\n",
            "  (10): Linear(in_features=1024, out_features=10, bias=True)\n",
            ")\n",
            "torch.Size([32, 1, 5, 5])\n",
            "torch.Size([64, 32, 5, 5])\n"
          ]
        }
      ],
      "source": [
        "print('\\nModel 5:')\n",
        "model5.apply(init_conv2d_weights)\n",
        "print(model5)\n",
        "print(model5[0].weight.data.shape)\n",
        "print(model5[3].weight.data.shape)\n",
        "print('\\nModel 6:')\n",
        "model6.apply(init_conv2d_weights)\n",
        "print(model6)\n",
        "print(model6[0].weight.data.shape)\n",
        "print(model6[3].weight.data.shape)\n",
        "\n",
        "\n",
        "model5[0].register_forward_hook(get_activation('model5_conv1'))\n",
        "model5[1].register_forward_hook(get_activation('model5_conv1_Relu'))\n",
        "model5[3].register_forward_hook(get_activation('model5_conv2'))\n",
        "model5[5].register_forward_hook(get_activation('model5_conv2_maxpooled'))\n",
        "\n",
        "model6[0].register_forward_hook(get_activation('model6_conv1'))\n",
        "model6[1].register_forward_hook(get_activation('model6_conv1_Relu'))\n",
        "model6[3].register_forward_hook(get_activation('model6_conv2'))\n",
        "model6[5].register_forward_hook(get_activation('model6_conv2_maxpooled'))\n",
        "\n",
        "arc5_models = [model5, model6]"
      ]
    },
    {
      "cell_type": "code",
      "execution_count": null,
      "metadata": {
        "colab": {
          "base_uri": "https://localhost:8080/"
        },
        "id": "CxNd_iYTTdam",
        "outputId": "7c457d5b-e1e2-4cc1-d233-0b0b850355c9"
      },
      "outputs": [
        {
          "output_type": "stream",
          "name": "stdout",
          "text": [
            "epoch  1 :\n",
            "CE: 2.301398, ACC: 0.100\n",
            "CE: 1.013509, ACC: 0.640\n",
            "CE: 0.656568, ACC: 0.800\n",
            "CE: 0.413641, ACC: 0.840\n",
            "CE: 0.549464, ACC: 0.840\n",
            "CE: 0.519830, ACC: 0.820\n",
            "CE: 0.344404, ACC: 0.940\n",
            "CE: 0.304325, ACC: 0.980\n",
            "CE: 0.256705, ACC: 0.900\n",
            "CE: 0.307651, ACC: 0.920\n",
            "CE: 0.250409, ACC: 0.920\n",
            "epoch  2 :\n",
            "CE: 0.055397, ACC: 1.000\n",
            "time took to reach 0.99 accuracy: 175.55971431732178\n",
            "Final train step - CE: 0.055397, ACC: 1.000\n",
            "Train Time 175.56036496162415\n",
            "-------------------------------------------------------------\n",
            "epoch  1 :\n",
            "CE: 2.304775, ACC: 0.080\n",
            "CE: 0.805759, ACC: 0.790\n",
            "CE: 0.827821, ACC: 0.730\n",
            "CE: 0.442752, ACC: 0.860\n",
            "CE: 0.335079, ACC: 0.870\n",
            "CE: 0.323956, ACC: 0.900\n",
            "epoch  2 :\n",
            "CE: 0.236219, ACC: 0.900\n",
            "CE: 0.360573, ACC: 0.910\n",
            "CE: 0.335612, ACC: 0.880\n",
            "CE: 0.121155, ACC: 0.960\n",
            "CE: 0.305928, ACC: 0.930\n",
            "CE: 0.240717, ACC: 0.910\n",
            "Final train step - CE: 0.084377, ACC: 0.970\n",
            "Train Time 282.26126503944397\n",
            "-------------------------------------------------------------\n"
          ]
        }
      ],
      "source": [
        "def train_arc_models(arc5_models, loaders):\n",
        "  train_times = []\n",
        "  acc_got_time  = 0\n",
        "  optimizers = [torch.optim.Adam(model5.parameters(), lr=lr), torch.optim.Adam(model6.parameters(), lr=lr)]\n",
        "  loss = torch.nn.CrossEntropyLoss()\n",
        "  num_epochs = 2\n",
        "  for model in arc5_models:\n",
        "    start = time.time()\n",
        "    model.to(device)\n",
        "    for epoch in range(num_epochs):\n",
        "      print(\"epoch \", epoch + 1, \":\")\n",
        "      for batch_idx, (images, labels) in enumerate(loaders[arc5_models.index(model)]):\n",
        "        images = images/255\n",
        "        images, labels = images.to(device), labels.to(device)\n",
        "\n",
        "        predictions = model(images)\n",
        "        cross_entropy = loss(predictions, labels)\n",
        "        if not (batch_idx % 100):\n",
        "          acc = accuracy(predictions, labels).item()\n",
        "          print(\"CE: %.6f, ACC: %.3f\" % (cross_entropy.item(), acc))\n",
        "\n",
        "        if acc >= 0.99:\n",
        "            acc_got_time = time.time()\n",
        "            print(\"time took to reach 0.99 accuracy: \" + str(acc_got_time - start))\n",
        "            break\n",
        "\n",
        "        optimizers[arc5_models.index(model)].zero_grad()\n",
        "        cross_entropy.backward()\n",
        "        optimizers[arc5_models.index(model)].step()\n",
        "      # if cross_entropy.item() < 0.1:\n",
        "      #     break\n",
        "\n",
        "    end = time.time()\n",
        "    print(\"Final train step - CE: %.6f, ACC: %.3f\" % (cross_entropy.item(), accuracy(predictions, labels).item()))\n",
        "    print(\"Train Time \"+str(end-start))\n",
        "    train_times.append(end-start)\n",
        "    print(\"-------------------------------------------------------------\")\n",
        "\n",
        "train_loaders = [train_loader_50batch, train_loader_100batch] \n",
        "val_loaders = [val_loader_50batch, val_loader_100batch] \n",
        "test_loaders = [test_loader_50batch, test_loader_100batch] \n",
        "\n",
        "\n",
        "train_arc_models(arc5_models, train_loaders)"
      ]
    },
    {
      "cell_type": "code",
      "execution_count": null,
      "metadata": {
        "colab": {
          "base_uri": "https://localhost:8080/"
        },
        "id": "p8xVl0A3OdTG",
        "outputId": "36236b51-ddb6-4e82-e9ec-e9d7b3cbd68f"
      },
      "outputs": [
        {
          "output_type": "stream",
          "name": "stdout",
          "text": [
            "epoch  1 :\n",
            "CE: 0.133615, ACC: 0.940\n",
            "CE: 0.131382, ACC: 0.940\n",
            "CE: 0.075178, ACC: 0.980\n",
            "CE: 0.232151, ACC: 0.900\n",
            "CE: 0.292371, ACC: 0.940\n",
            "CE: 0.103671, ACC: 0.960\n",
            "CE: 0.109183, ACC: 0.980\n",
            "CE: 0.232298, ACC: 0.960\n",
            "CE: 0.147250, ACC: 0.960\n",
            "CE: 0.213251, ACC: 0.960\n",
            "CE: 0.038549, ACC: 0.980\n",
            "epoch  2 :\n",
            "CE: 0.121524, ACC: 0.960\n",
            "CE: 0.144846, ACC: 0.920\n",
            "CE: 0.110150, ACC: 0.960\n",
            "CE: 0.048221, ACC: 0.960\n",
            "CE: 0.315995, ACC: 0.880\n",
            "CE: 0.188172, ACC: 0.940\n",
            "CE: 0.013846, ACC: 1.000\n",
            "time took to reach 0.99 accuracy: 256.1706736087799\n",
            "Final train step - CE: 0.013846, ACC: 1.000\n",
            "Train Time 256.1712691783905\n",
            "-------------------------------------------------------------\n",
            "epoch  1 :\n",
            "CE: 0.094166, ACC: 0.970\n",
            "CE: 0.143217, ACC: 0.970\n",
            "CE: 0.071280, ACC: 0.980\n",
            "CE: 0.103713, ACC: 0.970\n",
            "CE: 0.068636, ACC: 0.980\n",
            "CE: 0.134272, ACC: 0.960\n",
            "epoch  2 :\n",
            "CE: 0.164803, ACC: 0.950\n",
            "CE: 0.100410, ACC: 0.970\n",
            "CE: 0.147848, ACC: 0.960\n",
            "CE: 0.083543, ACC: 0.990\n",
            "time took to reach 0.99 accuracy: 213.6197054386139\n",
            "Final train step - CE: 0.083543, ACC: 0.990\n",
            "Train Time 213.6203830242157\n",
            "-------------------------------------------------------------\n"
          ]
        }
      ],
      "source": [
        "train_arc_models(arc5_models, train_loaders)"
      ]
    },
    {
      "cell_type": "code",
      "execution_count": null,
      "metadata": {
        "colab": {
          "base_uri": "https://localhost:8080/"
        },
        "id": "9l11N8ng_EmO",
        "outputId": "12d6d031-5b5b-40b7-fe2c-4d0b32e95edb"
      },
      "outputs": [
        {
          "output_type": "stream",
          "name": "stdout",
          "text": [
            "Validation:\n",
            "----- Model No.1 -----\n",
            "mean of accuracies in all batches (not the general accuracy of the model): tensor(0.9673)\n",
            "----- Model No.2 -----\n",
            "mean of accuracies in all batches (not the general accuracy of the model): tensor(0.9677)\n",
            "\n",
            "Test:\n",
            "----- Model No.1 -----\n",
            "mean of accuracies in all batches (not the general accuracy of the model): tensor(0.9700)\n",
            "----- Model No.2 -----\n",
            "mean of accuracies in all batches (not the general accuracy of the model): tensor(0.9673)\n"
          ]
        }
      ],
      "source": [
        "def get_mean_of_batches_arc5_models(models, loaders):\n",
        "  accuracies = [[],[]]\n",
        "  accuracies_means = []\n",
        "  for model in models:\n",
        "    for batch_idx, (images, labels) in enumerate(loaders[models.index(model)]):\n",
        "      images = images/255 # normalization\n",
        "      correct_prediction = (torch.argmax(model(images),1) == labels).type(torch.float32)\n",
        "      accuracies[(models.index(model))].append(torch.mean(correct_prediction))\n",
        "      if batch_idx == 200: # validation on only 10000 images (like the test size)\n",
        "        break\n",
        "    accuracies_means.append(sum(accuracies[(models.index(model))])/ len(accuracies[(models.index(model))]))\n",
        "    print(\"----- Model No.\"+ str(models.index(model)+1) +\" -----\")\n",
        "    print(\"mean of accuracies in all batches (not the general accuracy of the model): \"+ str(accuracies_means[(models.index(model))]))\n",
        "\n",
        "\n",
        "\n",
        "print(\"Validation:\")\n",
        "get_mean_of_batches_arc5_models(arc5_models, val_loaders)   \n",
        "\n",
        "print(\"\\nTest:\")\n",
        "get_mean_of_batches_arc5_models(arc5_models, test_loaders)   "
      ]
    },
    {
      "cell_type": "code",
      "execution_count": null,
      "metadata": {
        "colab": {
          "base_uri": "https://localhost:8080/"
        },
        "id": "H1T9pWoHQpJq",
        "outputId": "145ae5c0-84fe-4e4a-d54f-7d22906c67eb"
      },
      "outputs": [
        {
          "output_type": "stream",
          "name": "stdout",
          "text": [
            "------------------------------ arc5_Convolution - Parameters After Training ------------------------------\n",
            "\n",
            "------------------------ Model NO. 0------------------------\n",
            "----------------------------------------------------------------\n",
            "        Layer (type)               Output Shape         Param #\n",
            "================================================================\n",
            "            Conv2d-1           [-1, 32, 28, 28]             832\n",
            "              ReLU-2           [-1, 32, 28, 28]               0\n",
            "         MaxPool2d-3           [-1, 32, 14, 14]               0\n",
            "            Conv2d-4           [-1, 64, 14, 14]          51,264\n",
            "              ReLU-5           [-1, 64, 14, 14]               0\n",
            "         MaxPool2d-6             [-1, 64, 7, 7]               0\n",
            "           Flatten-7                 [-1, 3136]               0\n",
            "           Dropout-8                 [-1, 3136]               0\n",
            "            Linear-9                 [-1, 1024]       3,212,288\n",
            "             ReLU-10                 [-1, 1024]               0\n",
            "           Linear-11                   [-1, 10]          10,250\n",
            "================================================================\n",
            "Total params: 3,274,634\n",
            "Trainable params: 3,274,634\n",
            "Non-trainable params: 0\n",
            "----------------------------------------------------------------\n",
            "Input size (MB): 0.00\n",
            "Forward/backward pass size (MB): 0.71\n",
            "Params size (MB): 12.49\n",
            "Estimated Total Size (MB): 13.20\n",
            "----------------------------------------------------------------\n",
            "\n",
            "train:\n",
            "p_score = 0.8500185185185185\n",
            "r_score = 0.8500185185185185\n",
            "f1_score = 0.8500185185185185\n",
            "acc_score = 0.8500185185185185\n",
            "balance acc= 0.8753028124343258\n",
            "\n",
            "validation:\n",
            "p_score = 0.8498333333333333\n",
            "r_score = 0.8498333333333333\n",
            "f1_score = 0.8498333333333333\n",
            "acc_score = 0.8498333333333333\n",
            "balance acc= 0.8763487922395867\n",
            "\n",
            "test:\n",
            "p_score = 0.8534\n",
            "r_score = 0.8534\n",
            "f1_score = 0.8534\n",
            "acc_score = 0.8534\n",
            "balance acc= 0.8787458026951744\n",
            "\n",
            "------------------------ Model NO. 1------------------------\n",
            "----------------------------------------------------------------\n",
            "        Layer (type)               Output Shape         Param #\n",
            "================================================================\n",
            "            Conv2d-1           [-1, 32, 28, 28]             832\n",
            "              ReLU-2           [-1, 32, 28, 28]               0\n",
            "         MaxPool2d-3           [-1, 32, 14, 14]               0\n",
            "            Conv2d-4           [-1, 64, 14, 14]          51,264\n",
            "              ReLU-5           [-1, 64, 14, 14]               0\n",
            "         MaxPool2d-6             [-1, 64, 7, 7]               0\n",
            "           Flatten-7                 [-1, 3136]               0\n",
            "           Dropout-8                 [-1, 3136]               0\n",
            "            Linear-9                 [-1, 1024]       3,212,288\n",
            "             ReLU-10                 [-1, 1024]               0\n",
            "           Linear-11                   [-1, 10]          10,250\n",
            "================================================================\n",
            "Total params: 3,274,634\n",
            "Trainable params: 3,274,634\n",
            "Non-trainable params: 0\n",
            "----------------------------------------------------------------\n",
            "Input size (MB): 0.00\n",
            "Forward/backward pass size (MB): 0.71\n",
            "Params size (MB): 12.49\n",
            "Estimated Total Size (MB): 13.20\n",
            "----------------------------------------------------------------\n",
            "\n",
            "train:\n",
            "p_score = 0.8066296296296296\n",
            "r_score = 0.8066296296296296\n",
            "f1_score = 0.8066296296296296\n",
            "acc_score = 0.8066296296296296\n",
            "balance acc= 0.8453691320905865\n",
            "\n",
            "validation:\n",
            "p_score = 0.8125\n",
            "r_score = 0.8125\n",
            "f1_score = 0.8125\n",
            "acc_score = 0.8125\n",
            "balance acc= 0.8515180173824246\n",
            "\n",
            "test:\n",
            "p_score = 0.8033\n",
            "r_score = 0.8033\n",
            "f1_score = 0.8033\n",
            "acc_score = 0.8033\n",
            "balance acc= 0.844086631847645\n"
          ]
        }
      ],
      "source": [
        "print(\"------------------------------ arc5_Convolution - Parameters After Training ------------------------------\")\n",
        "for model in arc5_models:\n",
        "  print(\"\\n------------------------ Model NO. \"+ str(arc5_models.index(model))+\"------------------------\")\n",
        "  summary(model, (1,28,28))\n",
        "  print(\"\\ntrain:\")\n",
        "  show_convo_model_info(model, train_loaders[arc5_models.index(model)])\n",
        "  print(\"\\nvalidation:\")\n",
        "  show_convo_model_info(model, val_loaders[arc5_models.index(model)])\n",
        "  print(\"\\ntest:\")\n",
        "  show_convo_model_info(model, test_loaders[arc5_models.index(model)])"
      ]
    },
    {
      "cell_type": "code",
      "execution_count": null,
      "metadata": {
        "colab": {
          "base_uri": "https://localhost:8080/"
        },
        "id": "F7VZQx-rVhuR",
        "outputId": "383a2615-5d86-41fc-c4cf-84b26b38b507"
      },
      "outputs": [
        {
          "output_type": "execute_result",
          "data": {
            "text/plain": [
              "Sequential(\n",
              "  (0): Conv2d(1, 32, kernel_size=(5, 5), stride=(1, 1), padding=same)\n",
              "  (1): ReLU()\n",
              "  (2): MaxPool2d(kernel_size=(2, 2), stride=(2, 2), padding=0, dilation=1, ceil_mode=False)\n",
              "  (3): Conv2d(32, 64, kernel_size=(5, 5), stride=(1, 1), padding=same)\n",
              "  (4): ReLU()\n",
              "  (5): MaxPool2d(kernel_size=(2, 2), stride=(2, 2), padding=0, dilation=1, ceil_mode=False)\n",
              "  (6): Flatten(start_dim=1, end_dim=-1)\n",
              "  (7): Dropout(p=0.5, inplace=False)\n",
              "  (8): Linear(in_features=3136, out_features=1024, bias=True)\n",
              "  (9): ReLU()\n",
              "  (10): Linear(in_features=1024, out_features=10, bias=True)\n",
              ")"
            ]
          },
          "metadata": {},
          "execution_count": 34
        }
      ],
      "source": [
        "arc5_models[0]"
      ]
    },
    {
      "cell_type": "markdown",
      "metadata": {
        "id": "06aMIWEGH2Fo"
      },
      "source": [
        "The best model we got (with the highest balanced accurancy for the test set) is model 5.\n",
        "\n",
        "**Visualiztion for Molel 5:**"
      ]
    },
    {
      "cell_type": "code",
      "execution_count": null,
      "metadata": {
        "colab": {
          "base_uri": "https://localhost:8080/"
        },
        "id": "0k-_SBQ_Yeev",
        "outputId": "105de38e-4c6f-43c8-d378-fc44fb13f2e3"
      },
      "outputs": [
        {
          "output_type": "execute_result",
          "data": {
            "text/plain": [
              "False"
            ]
          },
          "metadata": {},
          "execution_count": 35
        }
      ],
      "source": [
        "activation is None"
      ]
    },
    {
      "cell_type": "code",
      "execution_count": null,
      "metadata": {
        "colab": {
          "base_uri": "https://localhost:8080/"
        },
        "id": "T7awWaQFspYF",
        "outputId": "608653a1-9d8b-4c74-909e-b08ec47e3d61"
      },
      "outputs": [
        {
          "output_type": "stream",
          "name": "stdout",
          "text": [
            "dict_keys(['model3_conv1', 'model3_conv1_Relu', 'model3_conv2', 'model3_conv2_maxpooled', 'model4_conv1', 'model4_conv1_Relu', 'model4_conv1_maxpooled', 'model5_conv1', 'model5_conv1_Relu', 'model5_conv2', 'model5_conv2_maxpooled', 'model6_conv1', 'model6_conv1_Relu', 'model6_conv2', 'model6_conv2_maxpooled'])\n"
          ]
        }
      ],
      "source": [
        "print(activation.keys())"
      ]
    },
    {
      "cell_type": "code",
      "execution_count": null,
      "metadata": {
        "colab": {
          "base_uri": "https://localhost:8080/"
        },
        "id": "TowXwLfnxOBb",
        "outputId": "d3b441bb-ff0a-4ec3-b658-780715b88291"
      },
      "outputs": [
        {
          "output_type": "stream",
          "name": "stdout",
          "text": [
            "torch.Size([50, 32, 28, 28])\n",
            "torch.Size([50, 32, 28, 28])\n",
            "torch.Size([50, 64, 14, 14])\n",
            "torch.Size([50, 64, 7, 7])\n"
          ]
        }
      ],
      "source": [
        "print(activation['model5_conv1'].shape)\n",
        "print(activation['model5_conv1_Relu'].shape)\n",
        "print(activation['model5_conv2'].shape)\n",
        "print(activation['model5_conv2_maxpooled'].shape)\n"
      ]
    },
    {
      "cell_type": "markdown",
      "source": [
        "Now to visualize the convolotion layer will run and random image through the model, we'll do that by loading a random test batch and then select the first image, plot the chosen image(original) and then the convolution layers after the model runs on the image.\n",
        "\n",
        "We'll plot in different cells to not plot over each other"
      ],
      "metadata": {
        "id": "wHB1pl4ajbRC"
      }
    },
    {
      "cell_type": "code",
      "source": [
        "image = 0\n",
        "filter = 4\n",
        "\n",
        "activation_layers = ['model5_conv1', 'model5_conv1_Relu', 'model5_conv2' ,'model5_conv2_maxpooled']\n",
        "\n",
        "def conv_image(model, batch, batch_labels, layer_num, channel_num, after_activation = True, print_original = False):\n",
        "  if after_activation:\n",
        "    img = images[0:1]\n",
        "    predictions = model5(img)\n",
        "    score, predicted = torch.max(predictions, 1)\n",
        "\n",
        "    if print_original:\n",
        "      plt.figure()\n",
        "      org_img = (images[0].cpu().numpy())\n",
        "      org_img = np.squeeze(org_img)\n",
        "      plt.imshow(org_img)\n",
        "      print(\"label: \"+ str(batch_labels[0]))\n",
        "      print(\"predicted: \"+ str(predicted[0]))\n",
        "      print(\"-----------------\")\n",
        "      print(\"first img is the original, the following 4 are from the convo layers\")\n",
        "      print(\"-----------------\")\n",
        "\n",
        "    plt.figure()\n",
        "    imgplot = plt.imshow(activation[activation_layers[layer_num]][channel_num][filter].cpu())\n",
        "  else:\n",
        "    print(\"the hook layer isn't activated!\")\n",
        "\n",
        "\n",
        "for batch_idx, (images, labels) in enumerate(test_loaders[0]):\n",
        "  images = images/255 # normalization\n",
        "  images, labels = images.to(device), labels.to(device)\n",
        "  conv_image(model5, images, labels, 0, 0, True, True)\n",
        "  conv_image(model5, images, labels, 1, 0, True)\n",
        "  conv_image(model5, images, labels, 2, 0, True)\n",
        "  conv_image(model5, images, labels, 3, 0, True)\n",
        "  break"
      ],
      "metadata": {
        "colab": {
          "base_uri": "https://localhost:8080/",
          "height": 1000
        },
        "id": "ZQCMcrrtQOn0",
        "outputId": "7be6a4dc-666e-42eb-d34e-32bcde197c11"
      },
      "execution_count": null,
      "outputs": [
        {
          "output_type": "stream",
          "name": "stdout",
          "text": [
            "label: tensor(0)\n",
            "predicted: tensor(0)\n",
            "-----------------\n",
            "first img is the original, the following 4 are from the convo layers\n",
            "-----------------\n"
          ]
        },
        {
          "output_type": "display_data",
          "data": {
            "text/plain": [
              "<Figure size 432x288 with 1 Axes>"
            ],
            "image/png": "[encoded data removed]"
          },
          "metadata": {
            "needs_background": "light"
          }
        },
        {
          "output_type": "display_data",
          "data": {
            "text/plain": [
              "<Figure size 432x288 with 1 Axes>"
            ],
            "image/png": "[encoded data removed]"
          },
          "metadata": {
            "needs_background": "light"
          }
        },
        {
          "output_type": "display_data",
          "data": {
            "text/plain": [
              "<Figure size 432x288 with 1 Axes>"
            ],
            "image/png": "[encoded data removed]"
          },
          "metadata": {
            "needs_background": "light"
          }
        },
        {
          "output_type": "display_data",
          "data": {
            "text/plain": [
              "<Figure size 432x288 with 1 Axes>"
            ],
            "image/png": "[encoded data removed]"
          },
          "metadata": {
            "needs_background": "light"
          }
        },
        {
          "output_type": "display_data",
          "data": {
            "text/plain": [
              "<Figure size 432x288 with 1 Axes>"
            ],
            "image/png": "[encoded data removed]"
          },
          "metadata": {
            "needs_background": "light"
          }
        }
      ]
    },
    {
      "cell_type": "code",
      "source": [
        "for batch_idx, (images, labels) in enumerate(test_loaders[0]):\n",
        "  images = images/255 # normalization\n",
        "  images, labels = images.to(device), labels.to(device)\n",
        "  conv_image(model5, images, labels, 0, 0, True, True)\n",
        "  conv_image(model5, images, labels, 1, 0, True)\n",
        "  conv_image(model5, images, labels, 2, 0, True)\n",
        "  conv_image(model5, images, labels, 3, 0, True)\n",
        "  break"
      ],
      "metadata": {
        "colab": {
          "base_uri": "https://localhost:8080/",
          "height": 1000
        },
        "id": "q2zTCX3Tjnuj",
        "outputId": "0609ec9b-3d8a-4acb-90c6-733e3beab97a"
      },
      "execution_count": null,
      "outputs": [
        {
          "output_type": "stream",
          "name": "stdout",
          "text": [
            "label: tensor(8)\n",
            "predicted: tensor(8)\n",
            "-----------------\n",
            "first img is the original, the following 4 are from the convo layers\n",
            "-----------------\n"
          ]
        },
        {
          "output_type": "display_data",
          "data": {
            "text/plain": [
              "<Figure size 432x288 with 1 Axes>"
            ],
            "image/png": "[encoded data removed]"
          },
          "metadata": {
            "needs_background": "light"
          }
        },
        {
          "output_type": "display_data",
          "data": {
            "text/plain": [
              "<Figure size 432x288 with 1 Axes>"
            ],
            "image/png": "[encoded data removed]"
          },
          "metadata": {
            "needs_background": "light"
          }
        },
        {
          "output_type": "display_data",
          "data": {
            "text/plain": [
              "<Figure size 432x288 with 1 Axes>"
            ],
            "image/png": "[encoded data removed]"
          },
          "metadata": {
            "needs_background": "light"
          }
        },
        {
          "output_type": "display_data",
          "data": {
            "text/plain": [
              "<Figure size 432x288 with 1 Axes>"
            ],
            "image/png": "[encoded data removed]"
          },
          "metadata": {
            "needs_background": "light"
          }
        },
        {
          "output_type": "display_data",
          "data": {
            "text/plain": [
              "<Figure size 432x288 with 1 Axes>"
            ],
            "image/png": "[encoded data removed]"
          },
          "metadata": {
            "needs_background": "light"
          }
        }
      ]
    },
    {
      "cell_type": "code",
      "source": [
        "for batch_idx, (images, labels) in enumerate(test_loaders[0]):\n",
        "  images = images/255 # normalization\n",
        "  images, labels = images.to(device), labels.to(device)\n",
        "  conv_image(model5, images, labels, 0, 0, True, True)\n",
        "  conv_image(model5, images, labels, 1, 0, True)\n",
        "  conv_image(model5, images, labels, 2, 0, True)\n",
        "  conv_image(model5, images, labels, 3, 0, True)\n",
        "  break"
      ],
      "metadata": {
        "colab": {
          "base_uri": "https://localhost:8080/",
          "height": 1000
        },
        "id": "jL7AEAuajwx4",
        "outputId": "136c3411-1aa1-4fcb-cce8-d31442fb146e"
      },
      "execution_count": null,
      "outputs": [
        {
          "output_type": "stream",
          "name": "stdout",
          "text": [
            "label: tensor(8)\n",
            "predicted: tensor(8)\n",
            "-----------------\n",
            "first img is the original, the following 4 are from the convo layers\n",
            "-----------------\n"
          ]
        },
        {
          "output_type": "display_data",
          "data": {
            "text/plain": [
              "<Figure size 432x288 with 1 Axes>"
            ],
            "image/png": "[encoded data removed]"
          },
          "metadata": {
            "needs_background": "light"
          }
        },
        {
          "output_type": "display_data",
          "data": {
            "text/plain": [
              "<Figure size 432x288 with 1 Axes>"
            ],
            "image/png": "[encoded data removed]"
          },
          "metadata": {
            "needs_background": "light"
          }
        },
        {
          "output_type": "display_data",
          "data": {
            "text/plain": [
              "<Figure size 432x288 with 1 Axes>"
            ],
            "image/png": "[encoded data removed]"
          },
          "metadata": {
            "needs_background": "light"
          }
        },
        {
          "output_type": "display_data",
          "data": {
            "text/plain": [
              "<Figure size 432x288 with 1 Axes>"
            ],
            "image/png": "[encoded data removed]"
          },
          "metadata": {
            "needs_background": "light"
          }
        },
        {
          "output_type": "display_data",
          "data": {
            "text/plain": [
              "<Figure size 432x288 with 1 Axes>"
            ],
            "image/png": "[encoded data removed]"
          },
          "metadata": {
            "needs_background": "light"
          }
        }
      ]
    },
    {
      "cell_type": "code",
      "source": [
        "for batch_idx, (images, labels) in enumerate(test_loaders[0]):\n",
        "  images = images/255 # normalization\n",
        "  images, labels = images.to(device), labels.to(device)\n",
        "  conv_image(model5, images, labels, 0, 0, True, True)\n",
        "  conv_image(model5, images, labels, 1, 0, True)\n",
        "  conv_image(model5, images, labels, 2, 0, True)\n",
        "  conv_image(model5, images, labels, 3, 0, True)\n",
        "  break"
      ],
      "metadata": {
        "colab": {
          "base_uri": "https://localhost:8080/",
          "height": 1000
        },
        "id": "HQ1ODgqajyFB",
        "outputId": "f71fecd0-fdc8-488d-dbcf-bba43052cf9a"
      },
      "execution_count": null,
      "outputs": [
        {
          "output_type": "stream",
          "name": "stdout",
          "text": [
            "label: tensor(4)\n",
            "predicted: tensor(4)\n",
            "-----------------\n",
            "first img is the original, the following 4 are from the convo layers\n",
            "-----------------\n"
          ]
        },
        {
          "output_type": "display_data",
          "data": {
            "text/plain": [
              "<Figure size 432x288 with 1 Axes>"
            ],
            "image/png": "[encoded data removed]"
          },
          "metadata": {
            "needs_background": "light"
          }
        },
        {
          "output_type": "display_data",
          "data": {
            "text/plain": [
              "<Figure size 432x288 with 1 Axes>"
            ],
            "image/png": "[encoded data removed]"
          },
          "metadata": {
            "needs_background": "light"
          }
        },
        {
          "output_type": "display_data",
          "data": {
            "text/plain": [
              "<Figure size 432x288 with 1 Axes>"
            ],
            "image/png": "[encoded data removed]"
          },
          "metadata": {
            "needs_background": "light"
          }
        },
        {
          "output_type": "display_data",
          "data": {
            "text/plain": [
              "<Figure size 432x288 with 1 Axes>"
            ],
            "image/png": "[encoded data removed]"
          },
          "metadata": {
            "needs_background": "light"
          }
        },
        {
          "output_type": "display_data",
          "data": {
            "text/plain": [
              "<Figure size 432x288 with 1 Axes>"
            ],
            "image/png": "[encoded data removed]"
          },
          "metadata": {
            "needs_background": "light"
          }
        }
      ]
    }
  ],
  "metadata": {
    "colab": {
      "provenance": []
    },
    "gpuClass": "standard",
    "kernelspec": {
      "display_name": "Python 3",
      "name": "python3"
    },
    "language_info": {
      "name": "python"
    },
    "widgets": {
      "application/vnd.jupyter.widget-state+json": {
        "ae7a94845072407cb5f0031e2c47a214": {
          "model_module": "@jupyter-widgets/controls",
          "model_name": "HBoxModel",
          "model_module_version": "1.5.0",
          "state": {
            "_dom_classes": [],
            "_model_module": "@jupyter-widgets/controls",
            "_model_module_version": "1.5.0",
            "_model_name": "HBoxModel",
            "_view_count": null,
            "_view_module": "@jupyter-widgets/controls",
            "_view_module_version": "1.5.0",
            "_view_name": "HBoxView",
            "box_style": "",
            "children": [
              "IPY_MODEL_462bcc9d4d5b4176957c94a1d6df62e6",
              "IPY_MODEL_7ac4ae46121c46b98664d0b951f4c57b",
              "IPY_MODEL_d208485da99a412ea22de9259b84868f"
            ],
            "layout": "IPY_MODEL_7171a934634e4d97bb477c6c78d1d11a"
          }
        },
        "462bcc9d4d5b4176957c94a1d6df62e6": {
          "model_module": "@jupyter-widgets/controls",
          "model_name": "HTMLModel",
          "model_module_version": "1.5.0",
          "state": {
            "_dom_classes": [],
            "_model_module": "@jupyter-widgets/controls",
            "_model_module_version": "1.5.0",
            "_model_name": "HTMLModel",
            "_view_count": null,
            "_view_module": "@jupyter-widgets/controls",
            "_view_module_version": "1.5.0",
            "_view_name": "HTMLView",
            "description": "",
            "description_tooltip": null,
            "layout": "IPY_MODEL_81646b30f8d647a19e4b725a434bbdaa",
            "placeholder": "​",
            "style": "IPY_MODEL_1181eb179a2645c0b9498a8b4d25b322",
            "value": "100%"
          }
        },
        "7ac4ae46121c46b98664d0b951f4c57b": {
          "model_module": "@jupyter-widgets/controls",
          "model_name": "FloatProgressModel",
          "model_module_version": "1.5.0",
          "state": {
            "_dom_classes": [],
            "_model_module": "@jupyter-widgets/controls",
            "_model_module_version": "1.5.0",
            "_model_name": "FloatProgressModel",
            "_view_count": null,
            "_view_module": "@jupyter-widgets/controls",
            "_view_module_version": "1.5.0",
            "_view_name": "ProgressView",
            "bar_style": "success",
            "description": "",
            "description_tooltip": null,
            "layout": "IPY_MODEL_eee7b7c8c47e4b7d864d3bb8050846f9",
            "max": 9912422,
            "min": 0,
            "orientation": "horizontal",
            "style": "IPY_MODEL_1ff29f41a27b4e92baf78a7d055575f1",
            "value": 9912422
          }
        },
        "d208485da99a412ea22de9259b84868f": {
          "model_module": "@jupyter-widgets/controls",
          "model_name": "HTMLModel",
          "model_module_version": "1.5.0",
          "state": {
            "_dom_classes": [],
            "_model_module": "@jupyter-widgets/controls",
            "_model_module_version": "1.5.0",
            "_model_name": "HTMLModel",
            "_view_count": null,
            "_view_module": "@jupyter-widgets/controls",
            "_view_module_version": "1.5.0",
            "_view_name": "HTMLView",
            "description": "",
            "description_tooltip": null,
            "layout": "IPY_MODEL_0cfe44705dfb42ecab84c2da1469e10f",
            "placeholder": "​",
            "style": "IPY_MODEL_2e333f701ae44814afdc5d7ed6931832",
            "value": " 9912422/9912422 [00:00&lt;00:00, 12361753.69it/s]"
          }
        },
        "7171a934634e4d97bb477c6c78d1d11a": {
          "model_module": "@jupyter-widgets/base",
          "model_name": "LayoutModel",
          "model_module_version": "1.2.0",
          "state": {
            "_model_module": "@jupyter-widgets/base",
            "_model_module_version": "1.2.0",
            "_model_name": "LayoutModel",
            "_view_count": null,
            "_view_module": "@jupyter-widgets/base",
            "_view_module_version": "1.2.0",
            "_view_name": "LayoutView",
            "align_content": null,
            "align_items": null,
            "align_self": null,
            "border": null,
            "bottom": null,
            "display": null,
            "flex": null,
            "flex_flow": null,
            "grid_area": null,
            "grid_auto_columns": null,
            "grid_auto_flow": null,
            "grid_auto_rows": null,
            "grid_column": null,
            "grid_gap": null,
            "grid_row": null,
            "grid_template_areas": null,
            "grid_template_columns": null,
            "grid_template_rows": null,
            "height": null,
            "justify_content": null,
            "justify_items": null,
            "left": null,
            "margin": null,
            "max_height": null,
            "max_width": null,
            "min_height": null,
            "min_width": null,
            "object_fit": null,
            "object_position": null,
            "order": null,
            "overflow": null,
            "overflow_x": null,
            "overflow_y": null,
            "padding": null,
            "right": null,
            "top": null,
            "visibility": null,
            "width": null
          }
        },
        "81646b30f8d647a19e4b725a434bbdaa": {
          "model_module": "@jupyter-widgets/base",
          "model_name": "LayoutModel",
          "model_module_version": "1.2.0",
          "state": {
            "_model_module": "@jupyter-widgets/base",
            "_model_module_version": "1.2.0",
            "_model_name": "LayoutModel",
            "_view_count": null,
            "_view_module": "@jupyter-widgets/base",
            "_view_module_version": "1.2.0",
            "_view_name": "LayoutView",
            "align_content": null,
            "align_items": null,
            "align_self": null,
            "border": null,
            "bottom": null,
            "display": null,
            "flex": null,
            "flex_flow": null,
            "grid_area": null,
            "grid_auto_columns": null,
            "grid_auto_flow": null,
            "grid_auto_rows": null,
            "grid_column": null,
            "grid_gap": null,
            "grid_row": null,
            "grid_template_areas": null,
            "grid_template_columns": null,
            "grid_template_rows": null,
            "height": null,
            "justify_content": null,
            "justify_items": null,
            "left": null,
            "margin": null,
            "max_height": null,
            "max_width": null,
            "min_height": null,
            "min_width": null,
            "object_fit": null,
            "object_position": null,
            "order": null,
            "overflow": null,
            "overflow_x": null,
            "overflow_y": null,
            "padding": null,
            "right": null,
            "top": null,
            "visibility": null,
            "width": null
          }
        },
        "1181eb179a2645c0b9498a8b4d25b322": {
          "model_module": "@jupyter-widgets/controls",
          "model_name": "DescriptionStyleModel",
          "model_module_version": "1.5.0",
          "state": {
            "_model_module": "@jupyter-widgets/controls",
            "_model_module_version": "1.5.0",
            "_model_name": "DescriptionStyleModel",
            "_view_count": null,
            "_view_module": "@jupyter-widgets/base",
            "_view_module_version": "1.2.0",
            "_view_name": "StyleView",
            "description_width": ""
          }
        },
        "eee7b7c8c47e4b7d864d3bb8050846f9": {
          "model_module": "@jupyter-widgets/base",
          "model_name": "LayoutModel",
          "model_module_version": "1.2.0",
          "state": {
            "_model_module": "@jupyter-widgets/base",
            "_model_module_version": "1.2.0",
            "_model_name": "LayoutModel",
            "_view_count": null,
            "_view_module": "@jupyter-widgets/base",
            "_view_module_version": "1.2.0",
            "_view_name": "LayoutView",
            "align_content": null,
            "align_items": null,
            "align_self": null,
            "border": null,
            "bottom": null,
            "display": null,
            "flex": null,
            "flex_flow": null,
            "grid_area": null,
            "grid_auto_columns": null,
            "grid_auto_flow": null,
            "grid_auto_rows": null,
            "grid_column": null,
            "grid_gap": null,
            "grid_row": null,
            "grid_template_areas": null,
            "grid_template_columns": null,
            "grid_template_rows": null,
            "height": null,
            "justify_content": null,
            "justify_items": null,
            "left": null,
            "margin": null,
            "max_height": null,
            "max_width": null,
            "min_height": null,
            "min_width": null,
            "object_fit": null,
            "object_position": null,
            "order": null,
            "overflow": null,
            "overflow_x": null,
            "overflow_y": null,
            "padding": null,
            "right": null,
            "top": null,
            "visibility": null,
            "width": null
          }
        },
        "1ff29f41a27b4e92baf78a7d055575f1": {
          "model_module": "@jupyter-widgets/controls",
          "model_name": "ProgressStyleModel",
          "model_module_version": "1.5.0",
          "state": {
            "_model_module": "@jupyter-widgets/controls",
            "_model_module_version": "1.5.0",
            "_model_name": "ProgressStyleModel",
            "_view_count": null,
            "_view_module": "@jupyter-widgets/base",
            "_view_module_version": "1.2.0",
            "_view_name": "StyleView",
            "bar_color": null,
            "description_width": ""
          }
        },
        "0cfe44705dfb42ecab84c2da1469e10f": {
          "model_module": "@jupyter-widgets/base",
          "model_name": "LayoutModel",
          "model_module_version": "1.2.0",
          "state": {
            "_model_module": "@jupyter-widgets/base",
            "_model_module_version": "1.2.0",
            "_model_name": "LayoutModel",
            "_view_count": null,
            "_view_module": "@jupyter-widgets/base",
            "_view_module_version": "1.2.0",
            "_view_name": "LayoutView",
            "align_content": null,
            "align_items": null,
            "align_self": null,
            "border": null,
            "bottom": null,
            "display": null,
            "flex": null,
            "flex_flow": null,
            "grid_area": null,
            "grid_auto_columns": null,
            "grid_auto_flow": null,
            "grid_auto_rows": null,
            "grid_column": null,
            "grid_gap": null,
            "grid_row": null,
            "grid_template_areas": null,
            "grid_template_columns": null,
            "grid_template_rows": null,
            "height": null,
            "justify_content": null,
            "justify_items": null,
            "left": null,
            "margin": null,
            "max_height": null,
            "max_width": null,
            "min_height": null,
            "min_width": null,
            "object_fit": null,
            "object_position": null,
            "order": null,
            "overflow": null,
            "overflow_x": null,
            "overflow_y": null,
            "padding": null,
            "right": null,
            "top": null,
            "visibility": null,
            "width": null
          }
        },
        "2e333f701ae44814afdc5d7ed6931832": {
          "model_module": "@jupyter-widgets/controls",
          "model_name": "DescriptionStyleModel",
          "model_module_version": "1.5.0",
          "state": {
            "_model_module": "@jupyter-widgets/controls",
            "_model_module_version": "1.5.0",
            "_model_name": "DescriptionStyleModel",
            "_view_count": null,
            "_view_module": "@jupyter-widgets/base",
            "_view_module_version": "1.2.0",
            "_view_name": "StyleView",
            "description_width": ""
          }
        },
        "6632c83d4c26469e971c5e93c4685708": {
          "model_module": "@jupyter-widgets/controls",
          "model_name": "HBoxModel",
          "model_module_version": "1.5.0",
          "state": {
            "_dom_classes": [],
            "_model_module": "@jupyter-widgets/controls",
            "_model_module_version": "1.5.0",
            "_model_name": "HBoxModel",
            "_view_count": null,
            "_view_module": "@jupyter-widgets/controls",
            "_view_module_version": "1.5.0",
            "_view_name": "HBoxView",
            "box_style": "",
            "children": [
              "IPY_MODEL_b37f790b72b14950b3ee6a8f8874d9cd",
              "IPY_MODEL_4c5ac6a12a2c4111975409c56329b906",
              "IPY_MODEL_182fec8381414b50a78eddee4d16a136"
            ],
            "layout": "IPY_MODEL_9a727c03041241efa95110f2e3d129cc"
          }
        },
        "b37f790b72b14950b3ee6a8f8874d9cd": {
          "model_module": "@jupyter-widgets/controls",
          "model_name": "HTMLModel",
          "model_module_version": "1.5.0",
          "state": {
            "_dom_classes": [],
            "_model_module": "@jupyter-widgets/controls",
            "_model_module_version": "1.5.0",
            "_model_name": "HTMLModel",
            "_view_count": null,
            "_view_module": "@jupyter-widgets/controls",
            "_view_module_version": "1.5.0",
            "_view_name": "HTMLView",
            "description": "",
            "description_tooltip": null,
            "layout": "IPY_MODEL_c7391e85425a4dc0802f32c9cf38e874",
            "placeholder": "​",
            "style": "IPY_MODEL_3ea4861ec72c4154b7443a69e8e1d0f9",
            "value": "100%"
          }
        },
        "4c5ac6a12a2c4111975409c56329b906": {
          "model_module": "@jupyter-widgets/controls",
          "model_name": "FloatProgressModel",
          "model_module_version": "1.5.0",
          "state": {
            "_dom_classes": [],
            "_model_module": "@jupyter-widgets/controls",
            "_model_module_version": "1.5.0",
            "_model_name": "FloatProgressModel",
            "_view_count": null,
            "_view_module": "@jupyter-widgets/controls",
            "_view_module_version": "1.5.0",
            "_view_name": "ProgressView",
            "bar_style": "success",
            "description": "",
            "description_tooltip": null,
            "layout": "IPY_MODEL_47fa26a8a606496b8e3cebb45d53cd4d",
            "max": 28881,
            "min": 0,
            "orientation": "horizontal",
            "style": "IPY_MODEL_c357448f6890434b97281e950837ca06",
            "value": 28881
          }
        },
        "182fec8381414b50a78eddee4d16a136": {
          "model_module": "@jupyter-widgets/controls",
          "model_name": "HTMLModel",
          "model_module_version": "1.5.0",
          "state": {
            "_dom_classes": [],
            "_model_module": "@jupyter-widgets/controls",
            "_model_module_version": "1.5.0",
            "_model_name": "HTMLModel",
            "_view_count": null,
            "_view_module": "@jupyter-widgets/controls",
            "_view_module_version": "1.5.0",
            "_view_name": "HTMLView",
            "description": "",
            "description_tooltip": null,
            "layout": "IPY_MODEL_934d963dafae4b068c7c2268ce756eed",
            "placeholder": "​",
            "style": "IPY_MODEL_c02dc5db53dc4b909b28ca37ff50c3dc",
            "value": " 28881/28881 [00:00&lt;00:00, 949354.17it/s]"
          }
        },
        "9a727c03041241efa95110f2e3d129cc": {
          "model_module": "@jupyter-widgets/base",
          "model_name": "LayoutModel",
          "model_module_version": "1.2.0",
          "state": {
            "_model_module": "@jupyter-widgets/base",
            "_model_module_version": "1.2.0",
            "_model_name": "LayoutModel",
            "_view_count": null,
            "_view_module": "@jupyter-widgets/base",
            "_view_module_version": "1.2.0",
            "_view_name": "LayoutView",
            "align_content": null,
            "align_items": null,
            "align_self": null,
            "border": null,
            "bottom": null,
            "display": null,
            "flex": null,
            "flex_flow": null,
            "grid_area": null,
            "grid_auto_columns": null,
            "grid_auto_flow": null,
            "grid_auto_rows": null,
            "grid_column": null,
            "grid_gap": null,
            "grid_row": null,
            "grid_template_areas": null,
            "grid_template_columns": null,
            "grid_template_rows": null,
            "height": null,
            "justify_content": null,
            "justify_items": null,
            "left": null,
            "margin": null,
            "max_height": null,
            "max_width": null,
            "min_height": null,
            "min_width": null,
            "object_fit": null,
            "object_position": null,
            "order": null,
            "overflow": null,
            "overflow_x": null,
            "overflow_y": null,
            "padding": null,
            "right": null,
            "top": null,
            "visibility": null,
            "width": null
          }
        },
        "c7391e85425a4dc0802f32c9cf38e874": {
          "model_module": "@jupyter-widgets/base",
          "model_name": "LayoutModel",
          "model_module_version": "1.2.0",
          "state": {
            "_model_module": "@jupyter-widgets/base",
            "_model_module_version": "1.2.0",
            "_model_name": "LayoutModel",
            "_view_count": null,
            "_view_module": "@jupyter-widgets/base",
            "_view_module_version": "1.2.0",
            "_view_name": "LayoutView",
            "align_content": null,
            "align_items": null,
            "align_self": null,
            "border": null,
            "bottom": null,
            "display": null,
            "flex": null,
            "flex_flow": null,
            "grid_area": null,
            "grid_auto_columns": null,
            "grid_auto_flow": null,
            "grid_auto_rows": null,
            "grid_column": null,
            "grid_gap": null,
            "grid_row": null,
            "grid_template_areas": null,
            "grid_template_columns": null,
            "grid_template_rows": null,
            "height": null,
            "justify_content": null,
            "justify_items": null,
            "left": null,
            "margin": null,
            "max_height": null,
            "max_width": null,
            "min_height": null,
            "min_width": null,
            "object_fit": null,
            "object_position": null,
            "order": null,
            "overflow": null,
            "overflow_x": null,
            "overflow_y": null,
            "padding": null,
            "right": null,
            "top": null,
            "visibility": null,
            "width": null
          }
        },
        "3ea4861ec72c4154b7443a69e8e1d0f9": {
          "model_module": "@jupyter-widgets/controls",
          "model_name": "DescriptionStyleModel",
          "model_module_version": "1.5.0",
          "state": {
            "_model_module": "@jupyter-widgets/controls",
            "_model_module_version": "1.5.0",
            "_model_name": "DescriptionStyleModel",
            "_view_count": null,
            "_view_module": "@jupyter-widgets/base",
            "_view_module_version": "1.2.0",
            "_view_name": "StyleView",
            "description_width": ""
          }
        },
        "47fa26a8a606496b8e3cebb45d53cd4d": {
          "model_module": "@jupyter-widgets/base",
          "model_name": "LayoutModel",
          "model_module_version": "1.2.0",
          "state": {
            "_model_module": "@jupyter-widgets/base",
            "_model_module_version": "1.2.0",
            "_model_name": "LayoutModel",
            "_view_count": null,
            "_view_module": "@jupyter-widgets/base",
            "_view_module_version": "1.2.0",
            "_view_name": "LayoutView",
            "align_content": null,
            "align_items": null,
            "align_self": null,
            "border": null,
            "bottom": null,
            "display": null,
            "flex": null,
            "flex_flow": null,
            "grid_area": null,
            "grid_auto_columns": null,
            "grid_auto_flow": null,
            "grid_auto_rows": null,
            "grid_column": null,
            "grid_gap": null,
            "grid_row": null,
            "grid_template_areas": null,
            "grid_template_columns": null,
            "grid_template_rows": null,
            "height": null,
            "justify_content": null,
            "justify_items": null,
            "left": null,
            "margin": null,
            "max_height": null,
            "max_width": null,
            "min_height": null,
            "min_width": null,
            "object_fit": null,
            "object_position": null,
            "order": null,
            "overflow": null,
            "overflow_x": null,
            "overflow_y": null,
            "padding": null,
            "right": null,
            "top": null,
            "visibility": null,
            "width": null
          }
        },
        "c357448f6890434b97281e950837ca06": {
          "model_module": "@jupyter-widgets/controls",
          "model_name": "ProgressStyleModel",
          "model_module_version": "1.5.0",
          "state": {
            "_model_module": "@jupyter-widgets/controls",
            "_model_module_version": "1.5.0",
            "_model_name": "ProgressStyleModel",
            "_view_count": null,
            "_view_module": "@jupyter-widgets/base",
            "_view_module_version": "1.2.0",
            "_view_name": "StyleView",
            "bar_color": null,
            "description_width": ""
          }
        },
        "934d963dafae4b068c7c2268ce756eed": {
          "model_module": "@jupyter-widgets/base",
          "model_name": "LayoutModel",
          "model_module_version": "1.2.0",
          "state": {
            "_model_module": "@jupyter-widgets/base",
            "_model_module_version": "1.2.0",
            "_model_name": "LayoutModel",
            "_view_count": null,
            "_view_module": "@jupyter-widgets/base",
            "_view_module_version": "1.2.0",
            "_view_name": "LayoutView",
            "align_content": null,
            "align_items": null,
            "align_self": null,
            "border": null,
            "bottom": null,
            "display": null,
            "flex": null,
            "flex_flow": null,
            "grid_area": null,
            "grid_auto_columns": null,
            "grid_auto_flow": null,
            "grid_auto_rows": null,
            "grid_column": null,
            "grid_gap": null,
            "grid_row": null,
            "grid_template_areas": null,
            "grid_template_columns": null,
            "grid_template_rows": null,
            "height": null,
            "justify_content": null,
            "justify_items": null,
            "left": null,
            "margin": null,
            "max_height": null,
            "max_width": null,
            "min_height": null,
            "min_width": null,
            "object_fit": null,
            "object_position": null,
            "order": null,
            "overflow": null,
            "overflow_x": null,
            "overflow_y": null,
            "padding": null,
            "right": null,
            "top": null,
            "visibility": null,
            "width": null
          }
        },
        "c02dc5db53dc4b909b28ca37ff50c3dc": {
          "model_module": "@jupyter-widgets/controls",
          "model_name": "DescriptionStyleModel",
          "model_module_version": "1.5.0",
          "state": {
            "_model_module": "@jupyter-widgets/controls",
            "_model_module_version": "1.5.0",
            "_model_name": "DescriptionStyleModel",
            "_view_count": null,
            "_view_module": "@jupyter-widgets/base",
            "_view_module_version": "1.2.0",
            "_view_name": "StyleView",
            "description_width": ""
          }
        },
        "efd89fdbc92244d8a14569ead69fd374": {
          "model_module": "@jupyter-widgets/controls",
          "model_name": "HBoxModel",
          "model_module_version": "1.5.0",
          "state": {
            "_dom_classes": [],
            "_model_module": "@jupyter-widgets/controls",
            "_model_module_version": "1.5.0",
            "_model_name": "HBoxModel",
            "_view_count": null,
            "_view_module": "@jupyter-widgets/controls",
            "_view_module_version": "1.5.0",
            "_view_name": "HBoxView",
            "box_style": "",
            "children": [
              "IPY_MODEL_dd776e5e434249648234164357af0af1",
              "IPY_MODEL_d5745b5a0d68439c843f892e798ffb35",
              "IPY_MODEL_c982d992920947f8b87ebb10b8675b3d"
            ],
            "layout": "IPY_MODEL_c39ab8f9797f4e83aa009d55bea3b881"
          }
        },
        "dd776e5e434249648234164357af0af1": {
          "model_module": "@jupyter-widgets/controls",
          "model_name": "HTMLModel",
          "model_module_version": "1.5.0",
          "state": {
            "_dom_classes": [],
            "_model_module": "@jupyter-widgets/controls",
            "_model_module_version": "1.5.0",
            "_model_name": "HTMLModel",
            "_view_count": null,
            "_view_module": "@jupyter-widgets/controls",
            "_view_module_version": "1.5.0",
            "_view_name": "HTMLView",
            "description": "",
            "description_tooltip": null,
            "layout": "IPY_MODEL_e5c7207e205b4c31858801b83a1b3777",
            "placeholder": "​",
            "style": "IPY_MODEL_0a1fedcc047240389f099c0acda67268",
            "value": "100%"
          }
        },
        "d5745b5a0d68439c843f892e798ffb35": {
          "model_module": "@jupyter-widgets/controls",
          "model_name": "FloatProgressModel",
          "model_module_version": "1.5.0",
          "state": {
            "_dom_classes": [],
            "_model_module": "@jupyter-widgets/controls",
            "_model_module_version": "1.5.0",
            "_model_name": "FloatProgressModel",
            "_view_count": null,
            "_view_module": "@jupyter-widgets/controls",
            "_view_module_version": "1.5.0",
            "_view_name": "ProgressView",
            "bar_style": "success",
            "description": "",
            "description_tooltip": null,
            "layout": "IPY_MODEL_0dd4e42be24e40efb72b7bd960ebc546",
            "max": 1648877,
            "min": 0,
            "orientation": "horizontal",
            "style": "IPY_MODEL_9fdf0fc91f984d33a141cfe36d80d058",
            "value": 1648877
          }
        },
        "c982d992920947f8b87ebb10b8675b3d": {
          "model_module": "@jupyter-widgets/controls",
          "model_name": "HTMLModel",
          "model_module_version": "1.5.0",
          "state": {
            "_dom_classes": [],
            "_model_module": "@jupyter-widgets/controls",
            "_model_module_version": "1.5.0",
            "_model_name": "HTMLModel",
            "_view_count": null,
            "_view_module": "@jupyter-widgets/controls",
            "_view_module_version": "1.5.0",
            "_view_name": "HTMLView",
            "description": "",
            "description_tooltip": null,
            "layout": "IPY_MODEL_117f388025d94f9b8fbea16eb15cd891",
            "placeholder": "​",
            "style": "IPY_MODEL_70a2ff8f2dfd4a9697a7302f3897c1ea",
            "value": " 1648877/1648877 [00:00&lt;00:00, 18775428.12it/s]"
          }
        },
        "c39ab8f9797f4e83aa009d55bea3b881": {
          "model_module": "@jupyter-widgets/base",
          "model_name": "LayoutModel",
          "model_module_version": "1.2.0",
          "state": {
            "_model_module": "@jupyter-widgets/base",
            "_model_module_version": "1.2.0",
            "_model_name": "LayoutModel",
            "_view_count": null,
            "_view_module": "@jupyter-widgets/base",
            "_view_module_version": "1.2.0",
            "_view_name": "LayoutView",
            "align_content": null,
            "align_items": null,
            "align_self": null,
            "border": null,
            "bottom": null,
            "display": null,
            "flex": null,
            "flex_flow": null,
            "grid_area": null,
            "grid_auto_columns": null,
            "grid_auto_flow": null,
            "grid_auto_rows": null,
            "grid_column": null,
            "grid_gap": null,
            "grid_row": null,
            "grid_template_areas": null,
            "grid_template_columns": null,
            "grid_template_rows": null,
            "height": null,
            "justify_content": null,
            "justify_items": null,
            "left": null,
            "margin": null,
            "max_height": null,
            "max_width": null,
            "min_height": null,
            "min_width": null,
            "object_fit": null,
            "object_position": null,
            "order": null,
            "overflow": null,
            "overflow_x": null,
            "overflow_y": null,
            "padding": null,
            "right": null,
            "top": null,
            "visibility": null,
            "width": null
          }
        },
        "e5c7207e205b4c31858801b83a1b3777": {
          "model_module": "@jupyter-widgets/base",
          "model_name": "LayoutModel",
          "model_module_version": "1.2.0",
          "state": {
            "_model_module": "@jupyter-widgets/base",
            "_model_module_version": "1.2.0",
            "_model_name": "LayoutModel",
            "_view_count": null,
            "_view_module": "@jupyter-widgets/base",
            "_view_module_version": "1.2.0",
            "_view_name": "LayoutView",
            "align_content": null,
            "align_items": null,
            "align_self": null,
            "border": null,
            "bottom": null,
            "display": null,
            "flex": null,
            "flex_flow": null,
            "grid_area": null,
            "grid_auto_columns": null,
            "grid_auto_flow": null,
            "grid_auto_rows": null,
            "grid_column": null,
            "grid_gap": null,
            "grid_row": null,
            "grid_template_areas": null,
            "grid_template_columns": null,
            "grid_template_rows": null,
            "height": null,
            "justify_content": null,
            "justify_items": null,
            "left": null,
            "margin": null,
            "max_height": null,
            "max_width": null,
            "min_height": null,
            "min_width": null,
            "object_fit": null,
            "object_position": null,
            "order": null,
            "overflow": null,
            "overflow_x": null,
            "overflow_y": null,
            "padding": null,
            "right": null,
            "top": null,
            "visibility": null,
            "width": null
          }
        },
        "0a1fedcc047240389f099c0acda67268": {
          "model_module": "@jupyter-widgets/controls",
          "model_name": "DescriptionStyleModel",
          "model_module_version": "1.5.0",
          "state": {
            "_model_module": "@jupyter-widgets/controls",
            "_model_module_version": "1.5.0",
            "_model_name": "DescriptionStyleModel",
            "_view_count": null,
            "_view_module": "@jupyter-widgets/base",
            "_view_module_version": "1.2.0",
            "_view_name": "StyleView",
            "description_width": ""
          }
        },
        "0dd4e42be24e40efb72b7bd960ebc546": {
          "model_module": "@jupyter-widgets/base",
          "model_name": "LayoutModel",
          "model_module_version": "1.2.0",
          "state": {
            "_model_module": "@jupyter-widgets/base",
            "_model_module_version": "1.2.0",
            "_model_name": "LayoutModel",
            "_view_count": null,
            "_view_module": "@jupyter-widgets/base",
            "_view_module_version": "1.2.0",
            "_view_name": "LayoutView",
            "align_content": null,
            "align_items": null,
            "align_self": null,
            "border": null,
            "bottom": null,
            "display": null,
            "flex": null,
            "flex_flow": null,
            "grid_area": null,
            "grid_auto_columns": null,
            "grid_auto_flow": null,
            "grid_auto_rows": null,
            "grid_column": null,
            "grid_gap": null,
            "grid_row": null,
            "grid_template_areas": null,
            "grid_template_columns": null,
            "grid_template_rows": null,
            "height": null,
            "justify_content": null,
            "justify_items": null,
            "left": null,
            "margin": null,
            "max_height": null,
            "max_width": null,
            "min_height": null,
            "min_width": null,
            "object_fit": null,
            "object_position": null,
            "order": null,
            "overflow": null,
            "overflow_x": null,
            "overflow_y": null,
            "padding": null,
            "right": null,
            "top": null,
            "visibility": null,
            "width": null
          }
        },
        "9fdf0fc91f984d33a141cfe36d80d058": {
          "model_module": "@jupyter-widgets/controls",
          "model_name": "ProgressStyleModel",
          "model_module_version": "1.5.0",
          "state": {
            "_model_module": "@jupyter-widgets/controls",
            "_model_module_version": "1.5.0",
            "_model_name": "ProgressStyleModel",
            "_view_count": null,
            "_view_module": "@jupyter-widgets/base",
            "_view_module_version": "1.2.0",
            "_view_name": "StyleView",
            "bar_color": null,
            "description_width": ""
          }
        },
        "117f388025d94f9b8fbea16eb15cd891": {
          "model_module": "@jupyter-widgets/base",
          "model_name": "LayoutModel",
          "model_module_version": "1.2.0",
          "state": {
            "_model_module": "@jupyter-widgets/base",
            "_model_module_version": "1.2.0",
            "_model_name": "LayoutModel",
            "_view_count": null,
            "_view_module": "@jupyter-widgets/base",
            "_view_module_version": "1.2.0",
            "_view_name": "LayoutView",
            "align_content": null,
            "align_items": null,
            "align_self": null,
            "border": null,
            "bottom": null,
            "display": null,
            "flex": null,
            "flex_flow": null,
            "grid_area": null,
            "grid_auto_columns": null,
            "grid_auto_flow": null,
            "grid_auto_rows": null,
            "grid_column": null,
            "grid_gap": null,
            "grid_row": null,
            "grid_template_areas": null,
            "grid_template_columns": null,
            "grid_template_rows": null,
            "height": null,
            "justify_content": null,
            "justify_items": null,
            "left": null,
            "margin": null,
            "max_height": null,
            "max_width": null,
            "min_height": null,
            "min_width": null,
            "object_fit": null,
            "object_position": null,
            "order": null,
            "overflow": null,
            "overflow_x": null,
            "overflow_y": null,
            "padding": null,
            "right": null,
            "top": null,
            "visibility": null,
            "width": null
          }
        },
        "70a2ff8f2dfd4a9697a7302f3897c1ea": {
          "model_module": "@jupyter-widgets/controls",
          "model_name": "DescriptionStyleModel",
          "model_module_version": "1.5.0",
          "state": {
            "_model_module": "@jupyter-widgets/controls",
            "_model_module_version": "1.5.0",
            "_model_name": "DescriptionStyleModel",
            "_view_count": null,
            "_view_module": "@jupyter-widgets/base",
            "_view_module_version": "1.2.0",
            "_view_name": "StyleView",
            "description_width": ""
          }
        },
        "84050e2d72b8411a9408d1eae10d3eec": {
          "model_module": "@jupyter-widgets/controls",
          "model_name": "HBoxModel",
          "model_module_version": "1.5.0",
          "state": {
            "_dom_classes": [],
            "_model_module": "@jupyter-widgets/controls",
            "_model_module_version": "1.5.0",
            "_model_name": "HBoxModel",
            "_view_count": null,
            "_view_module": "@jupyter-widgets/controls",
            "_view_module_version": "1.5.0",
            "_view_name": "HBoxView",
            "box_style": "",
            "children": [
              "IPY_MODEL_acf56a17323c4796922bd2181c23e0a0",
              "IPY_MODEL_d011dd46e29949f1beb3238267139ba6",
              "IPY_MODEL_36c90b95184247c88f819c34700ba8e1"
            ],
            "layout": "IPY_MODEL_26a1b8c28d86482db18e4bbaaf6ee452"
          }
        },
        "acf56a17323c4796922bd2181c23e0a0": {
          "model_module": "@jupyter-widgets/controls",
          "model_name": "HTMLModel",
          "model_module_version": "1.5.0",
          "state": {
            "_dom_classes": [],
            "_model_module": "@jupyter-widgets/controls",
            "_model_module_version": "1.5.0",
            "_model_name": "HTMLModel",
            "_view_count": null,
            "_view_module": "@jupyter-widgets/controls",
            "_view_module_version": "1.5.0",
            "_view_name": "HTMLView",
            "description": "",
            "description_tooltip": null,
            "layout": "IPY_MODEL_0b990c2fe2f94d40914c2dcb51c8c7a8",
            "placeholder": "​",
            "style": "IPY_MODEL_8227b4ac7f7944cdae2ab629512faef7",
            "value": "100%"
          }
        },
        "d011dd46e29949f1beb3238267139ba6": {
          "model_module": "@jupyter-widgets/controls",
          "model_name": "FloatProgressModel",
          "model_module_version": "1.5.0",
          "state": {
            "_dom_classes": [],
            "_model_module": "@jupyter-widgets/controls",
            "_model_module_version": "1.5.0",
            "_model_name": "FloatProgressModel",
            "_view_count": null,
            "_view_module": "@jupyter-widgets/controls",
            "_view_module_version": "1.5.0",
            "_view_name": "ProgressView",
            "bar_style": "success",
            "description": "",
            "description_tooltip": null,
            "layout": "IPY_MODEL_956023b781e942079e17314f646fb008",
            "max": 4542,
            "min": 0,
            "orientation": "horizontal",
            "style": "IPY_MODEL_879831d988a747f2a770a57ad00488a8",
            "value": 4542
          }
        },
        "36c90b95184247c88f819c34700ba8e1": {
          "model_module": "@jupyter-widgets/controls",
          "model_name": "HTMLModel",
          "model_module_version": "1.5.0",
          "state": {
            "_dom_classes": [],
            "_model_module": "@jupyter-widgets/controls",
            "_model_module_version": "1.5.0",
            "_model_name": "HTMLModel",
            "_view_count": null,
            "_view_module": "@jupyter-widgets/controls",
            "_view_module_version": "1.5.0",
            "_view_name": "HTMLView",
            "description": "",
            "description_tooltip": null,
            "layout": "IPY_MODEL_619abde2850646b2b9bdcf56292f666a",
            "placeholder": "​",
            "style": "IPY_MODEL_eda9f1904de441ea9af1dcdc2a334704",
            "value": " 4542/4542 [00:00&lt;00:00, 121099.52it/s]"
          }
        },
        "26a1b8c28d86482db18e4bbaaf6ee452": {
          "model_module": "@jupyter-widgets/base",
          "model_name": "LayoutModel",
          "model_module_version": "1.2.0",
          "state": {
            "_model_module": "@jupyter-widgets/base",
            "_model_module_version": "1.2.0",
            "_model_name": "LayoutModel",
            "_view_count": null,
            "_view_module": "@jupyter-widgets/base",
            "_view_module_version": "1.2.0",
            "_view_name": "LayoutView",
            "align_content": null,
            "align_items": null,
            "align_self": null,
            "border": null,
            "bottom": null,
            "display": null,
            "flex": null,
            "flex_flow": null,
            "grid_area": null,
            "grid_auto_columns": null,
            "grid_auto_flow": null,
            "grid_auto_rows": null,
            "grid_column": null,
            "grid_gap": null,
            "grid_row": null,
            "grid_template_areas": null,
            "grid_template_columns": null,
            "grid_template_rows": null,
            "height": null,
            "justify_content": null,
            "justify_items": null,
            "left": null,
            "margin": null,
            "max_height": null,
            "max_width": null,
            "min_height": null,
            "min_width": null,
            "object_fit": null,
            "object_position": null,
            "order": null,
            "overflow": null,
            "overflow_x": null,
            "overflow_y": null,
            "padding": null,
            "right": null,
            "top": null,
            "visibility": null,
            "width": null
          }
        },
        "0b990c2fe2f94d40914c2dcb51c8c7a8": {
          "model_module": "@jupyter-widgets/base",
          "model_name": "LayoutModel",
          "model_module_version": "1.2.0",
          "state": {
            "_model_module": "@jupyter-widgets/base",
            "_model_module_version": "1.2.0",
            "_model_name": "LayoutModel",
            "_view_count": null,
            "_view_module": "@jupyter-widgets/base",
            "_view_module_version": "1.2.0",
            "_view_name": "LayoutView",
            "align_content": null,
            "align_items": null,
            "align_self": null,
            "border": null,
            "bottom": null,
            "display": null,
            "flex": null,
            "flex_flow": null,
            "grid_area": null,
            "grid_auto_columns": null,
            "grid_auto_flow": null,
            "grid_auto_rows": null,
            "grid_column": null,
            "grid_gap": null,
            "grid_row": null,
            "grid_template_areas": null,
            "grid_template_columns": null,
            "grid_template_rows": null,
            "height": null,
            "justify_content": null,
            "justify_items": null,
            "left": null,
            "margin": null,
            "max_height": null,
            "max_width": null,
            "min_height": null,
            "min_width": null,
            "object_fit": null,
            "object_position": null,
            "order": null,
            "overflow": null,
            "overflow_x": null,
            "overflow_y": null,
            "padding": null,
            "right": null,
            "top": null,
            "visibility": null,
            "width": null
          }
        },
        "8227b4ac7f7944cdae2ab629512faef7": {
          "model_module": "@jupyter-widgets/controls",
          "model_name": "DescriptionStyleModel",
          "model_module_version": "1.5.0",
          "state": {
            "_model_module": "@jupyter-widgets/controls",
            "_model_module_version": "1.5.0",
            "_model_name": "DescriptionStyleModel",
            "_view_count": null,
            "_view_module": "@jupyter-widgets/base",
            "_view_module_version": "1.2.0",
            "_view_name": "StyleView",
            "description_width": ""
          }
        },
        "956023b781e942079e17314f646fb008": {
          "model_module": "@jupyter-widgets/base",
          "model_name": "LayoutModel",
          "model_module_version": "1.2.0",
          "state": {
            "_model_module": "@jupyter-widgets/base",
            "_model_module_version": "1.2.0",
            "_model_name": "LayoutModel",
            "_view_count": null,
            "_view_module": "@jupyter-widgets/base",
            "_view_module_version": "1.2.0",
            "_view_name": "LayoutView",
            "align_content": null,
            "align_items": null,
            "align_self": null,
            "border": null,
            "bottom": null,
            "display": null,
            "flex": null,
            "flex_flow": null,
            "grid_area": null,
            "grid_auto_columns": null,
            "grid_auto_flow": null,
            "grid_auto_rows": null,
            "grid_column": null,
            "grid_gap": null,
            "grid_row": null,
            "grid_template_areas": null,
            "grid_template_columns": null,
            "grid_template_rows": null,
            "height": null,
            "justify_content": null,
            "justify_items": null,
            "left": null,
            "margin": null,
            "max_height": null,
            "max_width": null,
            "min_height": null,
            "min_width": null,
            "object_fit": null,
            "object_position": null,
            "order": null,
            "overflow": null,
            "overflow_x": null,
            "overflow_y": null,
            "padding": null,
            "right": null,
            "top": null,
            "visibility": null,
            "width": null
          }
        },
        "879831d988a747f2a770a57ad00488a8": {
          "model_module": "@jupyter-widgets/controls",
          "model_name": "ProgressStyleModel",
          "model_module_version": "1.5.0",
          "state": {
            "_model_module": "@jupyter-widgets/controls",
            "_model_module_version": "1.5.0",
            "_model_name": "ProgressStyleModel",
            "_view_count": null,
            "_view_module": "@jupyter-widgets/base",
            "_view_module_version": "1.2.0",
            "_view_name": "StyleView",
            "bar_color": null,
            "description_width": ""
          }
        },
        "619abde2850646b2b9bdcf56292f666a": {
          "model_module": "@jupyter-widgets/base",
          "model_name": "LayoutModel",
          "model_module_version": "1.2.0",
          "state": {
            "_model_module": "@jupyter-widgets/base",
            "_model_module_version": "1.2.0",
            "_model_name": "LayoutModel",
            "_view_count": null,
            "_view_module": "@jupyter-widgets/base",
            "_view_module_version": "1.2.0",
            "_view_name": "LayoutView",
            "align_content": null,
            "align_items": null,
            "align_self": null,
            "border": null,
            "bottom": null,
            "display": null,
            "flex": null,
            "flex_flow": null,
            "grid_area": null,
            "grid_auto_columns": null,
            "grid_auto_flow": null,
            "grid_auto_rows": null,
            "grid_column": null,
            "grid_gap": null,
            "grid_row": null,
            "grid_template_areas": null,
            "grid_template_columns": null,
            "grid_template_rows": null,
            "height": null,
            "justify_content": null,
            "justify_items": null,
            "left": null,
            "margin": null,
            "max_height": null,
            "max_width": null,
            "min_height": null,
            "min_width": null,
            "object_fit": null,
            "object_position": null,
            "order": null,
            "overflow": null,
            "overflow_x": null,
            "overflow_y": null,
            "padding": null,
            "right": null,
            "top": null,
            "visibility": null,
            "width": null
          }
        },
        "eda9f1904de441ea9af1dcdc2a334704": {
          "model_module": "@jupyter-widgets/controls",
          "model_name": "DescriptionStyleModel",
          "model_module_version": "1.5.0",
          "state": {
            "_model_module": "@jupyter-widgets/controls",
            "_model_module_version": "1.5.0",
            "_model_name": "DescriptionStyleModel",
            "_view_count": null,
            "_view_module": "@jupyter-widgets/base",
            "_view_module_version": "1.2.0",
            "_view_name": "StyleView",
            "description_width": ""
          }
        }
      }
    }
  },
  "nbformat": 4,
  "nbformat_minor": 0
}